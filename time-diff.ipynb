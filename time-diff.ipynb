{
  "cells": [
    {
      "cell_type": "code",
      "source": [
        "!nvidia-smi"
      ],
      "metadata": {
        "colab": {
          "base_uri": "https://localhost:8080/"
        },
        "id": "6uKsExwAumKx",
        "outputId": "7f5ab301-62fa-40cc-e7b8-6d1c28172d9f"
      },
      "id": "6uKsExwAumKx",
      "execution_count": 1,
      "outputs": [
        {
          "output_type": "stream",
          "name": "stdout",
          "text": [
            "Tue Jul 22 20:50:38 2025       \n",
            "+-----------------------------------------------------------------------------------------+\n",
            "| NVIDIA-SMI 550.54.15              Driver Version: 550.54.15      CUDA Version: 12.4     |\n",
            "|-----------------------------------------+------------------------+----------------------+\n",
            "| GPU  Name                 Persistence-M | Bus-Id          Disp.A | Volatile Uncorr. ECC |\n",
            "| Fan  Temp   Perf          Pwr:Usage/Cap |           Memory-Usage | GPU-Util  Compute M. |\n",
            "|                                         |                        |               MIG M. |\n",
            "|=========================================+========================+======================|\n",
            "|   0  Tesla T4                       Off |   00000000:00:04.0 Off |                    0 |\n",
            "| N/A   75C    P0             43W /   70W |       0MiB /  15360MiB |      0%      Default |\n",
            "|                                         |                        |                  N/A |\n",
            "+-----------------------------------------+------------------------+----------------------+\n",
            "                                                                                         \n",
            "+-----------------------------------------------------------------------------------------+\n",
            "| Processes:                                                                              |\n",
            "|  GPU   GI   CI        PID   Type   Process name                              GPU Memory |\n",
            "|        ID   ID                                                               Usage      |\n",
            "|=========================================================================================|\n",
            "|  No running processes found                                                             |\n",
            "+-----------------------------------------------------------------------------------------+\n"
          ]
        }
      ]
    },
    {
      "cell_type": "code",
      "execution_count": 2,
      "id": "4c3f65a2-8fa4-4331-94ad-3ba553c48d33",
      "metadata": {
        "id": "4c3f65a2-8fa4-4331-94ad-3ba553c48d33"
      },
      "outputs": [],
      "source": [
        "import pandas as pd\n",
        "import numpy as np\n",
        "import matplotlib.pyplot as plt\n",
        "import torch\n",
        "import torch.nn as nn\n",
        "import torch.optim as optim\n",
        "import torch.nn.functional as F\n",
        "\n",
        "from einops import rearrange, repeat\n",
        "from dataclasses import dataclass\n",
        "from tqdm import trange, tqdm\n",
        "from torch.utils.data import DataLoader, TensorDataset"
      ]
    },
    {
      "cell_type": "markdown",
      "id": "9d8d15a6-62d3-40c8-83d6-55fd80b52f9e",
      "metadata": {
        "id": "9d8d15a6-62d3-40c8-83d6-55fd80b52f9e"
      },
      "source": [
        "## Data"
      ]
    },
    {
      "cell_type": "code",
      "source": [
        "# data = generate_ar_data(n_series=1, timesteps=2500, trend=0, seasonality=4, noise=0.1, level=1)\n",
        "historical_data = pd.read_csv(\"zcyc_ranges.csv\", skiprows=1, sep=\";\")"
      ],
      "metadata": {
        "id": "wC410Xyu6C6w"
      },
      "id": "wC410Xyu6C6w",
      "execution_count": 3,
      "outputs": []
    },
    {
      "cell_type": "code",
      "source": [
        "historical_data = historical_data.drop(columns=\"tradetime\")"
      ],
      "metadata": {
        "id": "382WWLPN7cA3"
      },
      "id": "382WWLPN7cA3",
      "execution_count": 4,
      "outputs": []
    },
    {
      "cell_type": "code",
      "source": [
        "historical_data[\"tradedate\"] = pd.to_datetime(historical_data[\"tradedate\"], format=\"%d.%m.%Y\")\n",
        "historical_data = historical_data.set_index(\"tradedate\")"
      ],
      "metadata": {
        "id": "pi0wirea-JVC"
      },
      "id": "pi0wirea-JVC",
      "execution_count": 5,
      "outputs": []
    },
    {
      "cell_type": "code",
      "source": [
        "historical_data = historical_data.apply(lambda x: x.str.replace(',', '.')).astype(float) / 100"
      ],
      "metadata": {
        "id": "ZRAf8BaV-YUz"
      },
      "id": "ZRAf8BaV-YUz",
      "execution_count": 6,
      "outputs": []
    },
    {
      "cell_type": "code",
      "source": [
        "historical_data[\"period_0.25\"].plot()"
      ],
      "metadata": {
        "colab": {
          "base_uri": "https://localhost:8080/",
          "height": 439
        },
        "id": "BODjq_eEOJXi",
        "outputId": "6a6eecde-a5dd-445e-ac83-f04bbb44caaa"
      },
      "id": "BODjq_eEOJXi",
      "execution_count": 7,
      "outputs": [
        {
          "output_type": "execute_result",
          "data": {
            "text/plain": [
              "<Axes: xlabel='tradedate'>"
            ]
          },
          "metadata": {},
          "execution_count": 7
        },
        {
          "output_type": "display_data",
          "data": {
            "text/plain": [
              "<Figure size 640x480 with 1 Axes>"
            ],
            "image/png": "[encoded data removed]"
          },
          "metadata": {}
        }
      ]
    },
    {
      "cell_type": "code",
      "source": [
        "historical_data_train = np.log(historical_data[:\"2024-01-01\"]).diff().dropna()"
      ],
      "metadata": {
        "id": "riAGjGBw-5Me"
      },
      "id": "riAGjGBw-5Me",
      "execution_count": 8,
      "outputs": []
    },
    {
      "cell_type": "code",
      "source": [
        "std = historical_data_train.std()\n",
        "mean = historical_data_train.mean()"
      ],
      "metadata": {
        "id": "AMbvlxtOZjtX"
      },
      "id": "AMbvlxtOZjtX",
      "execution_count": 9,
      "outputs": []
    },
    {
      "cell_type": "code",
      "source": [
        "historical_data_train = (historical_data_train - mean) / std"
      ],
      "metadata": {
        "id": "tgvhgDMGZoKo"
      },
      "id": "tgvhgDMGZoKo",
      "execution_count": 10,
      "outputs": []
    },
    {
      "cell_type": "code",
      "source": [
        "historical_data_train[\"period_0.25\"].hist(bins=100)"
      ],
      "metadata": {
        "colab": {
          "base_uri": "https://localhost:8080/",
          "height": 447
        },
        "id": "ehqO_-m9_XZ9",
        "outputId": "45045aa1-2198-4474-c54a-ec121df1d183"
      },
      "id": "ehqO_-m9_XZ9",
      "execution_count": 11,
      "outputs": [
        {
          "output_type": "execute_result",
          "data": {
            "text/plain": [
              "<Axes: >"
            ]
          },
          "metadata": {},
          "execution_count": 11
        },
        {
          "output_type": "display_data",
          "data": {
            "text/plain": [
              "<Figure size 640x480 with 1 Axes>"
            ],
            "image/png": "[encoded data removed]"
          },
          "metadata": {}
        }
      ]
    },
    {
      "cell_type": "code",
      "source": [
        "class NoiseScheduler:\n",
        "    def __init__(\n",
        "        self,\n",
        "        num_steps: int = 1000,\n",
        "        beta_start: float = 1e-4,\n",
        "        beta_end: float = 0.02,\n",
        "        schedule: str = \"cosine\",\n",
        "        device: str = \"cuda\"\n",
        "    ):\n",
        "        self.num_steps = num_steps\n",
        "        self.beta_start = beta_start\n",
        "        self.beta_end = beta_end\n",
        "        self.device = torch.device(device)\n",
        "        self.schedule = schedule\n",
        "\n",
        "        # Validate schedule\n",
        "        if schedule not in [\"linear\", \"cosine\"]:\n",
        "            raise ValueError(f\"Unknown schedule: {schedule}. Choose 'linear' or 'cosine'\")\n",
        "\n",
        "        # Initialize beta schedule\n",
        "        if schedule == \"linear\":\n",
        "            self.betas = torch.linspace(beta_start, beta_end, num_steps, device=self.device)\n",
        "        else:  # cosine\n",
        "            self.betas = self._cosine_beta_schedule(num_steps, s=0.008)\n",
        "\n",
        "        # Precompute diffusion parameters\n",
        "        self.alphas = 1. - self.betas\n",
        "        self.alpha_bars = torch.cumprod(self.alphas, dim=0)\n",
        "        self.sqrt_alpha_bars = torch.sqrt(self.alpha_bars)\n",
        "        self.sqrt_one_minus_alpha_bars = torch.sqrt(1. - self.alpha_bars)\n",
        "\n",
        "    def _cosine_beta_schedule(self, num_steps: int, s: float = 0.008) -> torch.Tensor:\n",
        "        \"\"\"Cosine schedule as proposed in https://arxiv.org/abs/2102.09672\"\"\"\n",
        "        steps = num_steps + 1\n",
        "        x = torch.linspace(0, num_steps, steps, device=self.device)\n",
        "        alphas_cumprod = torch.cos(((x / num_steps) + s) / (1 + s) * (np.pi / 2)) ** 2\n",
        "        alphas_cumprod = alphas_cumprod / alphas_cumprod[0]  # Normalize to start at 1\n",
        "        betas = 1 - (alphas_cumprod[1:] / alphas_cumprod[:-1])\n",
        "        return torch.clamp(betas, 1e-6, 0.999)  # Ensure numerical stability\n",
        "\n",
        "    def add_noise(\n",
        "        self,\n",
        "        x_0: torch.Tensor,\n",
        "        t: torch.Tensor,\n",
        "        noise: torch.Tensor = None\n",
        "    ) -> tuple[torch.Tensor, torch.Tensor]:\n",
        "        \"\"\"Forward diffusion process: q(x_t | x_0)\"\"\"\n",
        "        if noise is None:\n",
        "            noise = torch.randn_like(x_0, device=self.device)\n",
        "\n",
        "        # Move tensors to correct device if needed\n",
        "        x_0 = x_0.to(self.device)\n",
        "        t = t.to(self.device)\n",
        "        noise = noise.to(self.device)\n",
        "\n",
        "        # Get the right shape for broadcasting\n",
        "        sqrt_alpha_bar = self._gather(self.sqrt_alpha_bars, t, x_0.shape)\n",
        "        sqrt_one_minus_alpha_bar = self._gather(self.sqrt_one_minus_alpha_bars, t, x_0.shape)\n",
        "\n",
        "        # Combine with noise\n",
        "        x_t = sqrt_alpha_bar * x_0 + sqrt_one_minus_alpha_bar * noise\n",
        "        return x_t, noise\n",
        "\n",
        "    def step(\n",
        "        self,\n",
        "        model_output: torch.Tensor,\n",
        "        x_t: torch.Tensor,\n",
        "        t: torch.Tensor\n",
        "    ) -> torch.Tensor:\n",
        "        \"\"\"Reverse diffusion step: p(x_{t-1} | x_t)\"\"\"\n",
        "        # Ensure tensors are on correct device\n",
        "        model_output = model_output.to(self.device)\n",
        "        x_t = x_t.to(self.device)\n",
        "        t = t.to(self.device)\n",
        "\n",
        "        # Gather parameters for the current timestep\n",
        "        alpha_t = self._gather(self.alphas, t, x_t.shape)\n",
        "        alpha_bar_t = self._gather(self.alpha_bars, t, x_t.shape)\n",
        "        beta_t = self._gather(self.betas, t, x_t.shape)\n",
        "\n",
        "        # Predict x_0 and add noise if not last step\n",
        "        pred_noise = model_output\n",
        "        eps = 1e-6\n",
        "        x_0_pred = (x_t - torch.sqrt(1. - alpha_bar_t + eps) * pred_noise) / torch.sqrt(alpha_bar_t + eps)\n",
        "\n",
        "        # Clamp predicted x_0 to avoid extreme values\n",
        "        x_0_pred = torch.clamp(x_0_pred, -10.0, 10.0)  # Adjust bounds as needed\n",
        "        if t.min() > 0:  # Add noise if not last step\n",
        "            noise = torch.randn_like(x_t, device=self.device)\n",
        "            x_prev = torch.sqrt(alpha_t) * x_0_pred + torch.sqrt(beta_t) * noise\n",
        "        else:\n",
        "            x_prev = x_0_pred  # No noise for final step\n",
        "\n",
        "        return x_prev\n",
        "\n",
        "    def _gather(\n",
        "        self,\n",
        "        values: torch.Tensor,\n",
        "        t: torch.Tensor,\n",
        "        broadcast_shape: tuple\n",
        "    ) -> torch.Tensor:\n",
        "        \"\"\"Utility to gather and reshape diffusion parameters for broadcasting\"\"\"\n",
        "        # Gather values at timestep t\n",
        "        values = values.to(self.device)[t]\n",
        "\n",
        "        # Reshape for broadcasting (adds dummy dimensions for channels and spatial dims)\n",
        "        while len(values.shape) < len(broadcast_shape):\n",
        "            values = values.unsqueeze(-1)\n",
        "\n",
        "        return values"
      ],
      "metadata": {
        "id": "GTL4VkWn9M9W"
      },
      "id": "GTL4VkWn9M9W",
      "execution_count": 81,
      "outputs": []
    },
    {
      "cell_type": "code",
      "source": [
        "class TransformerTimeDiff(nn.Module):\n",
        "    def __init__(self, config):\n",
        "        super().__init__()\n",
        "        self.config = config\n",
        "        self.seq_len = config.seq_len\n",
        "        self.input_dim = config.input_dim\n",
        "        self.hidden_dim = config.hidden_dim\n",
        "\n",
        "        # Input projection\n",
        "        self.input_proj = nn.Sequential(\n",
        "            nn.Linear(self.input_dim, self.hidden_dim),\n",
        "            nn.LayerNorm(self.hidden_dim)\n",
        "        )\n",
        "\n",
        "        # Positional embeddings (learnable)\n",
        "        self.pos_embed = nn.Parameter(torch.randn(1, self.seq_len, self.hidden_dim))\n",
        "        nn.init.normal_(self.pos_embed, std=0.02)  # Initialize with small values\n",
        "\n",
        "        # Time embedding\n",
        "        self.time_embed = nn.Sequential(\n",
        "            nn.Linear(1, self.hidden_dim),\n",
        "            nn.SiLU(),\n",
        "            nn.Linear(self.hidden_dim, self.hidden_dim),\n",
        "            nn.SiLU(),\n",
        "            nn.Linear(self.hidden_dim, self.hidden_dim)\n",
        "        )\n",
        "\n",
        "        # Transformer layers\n",
        "        encoder_layer = nn.TransformerEncoderLayer(\n",
        "            d_model=self.hidden_dim,\n",
        "            nhead=config.num_heads,\n",
        "            dim_feedforward=config.ff_dim,\n",
        "            dropout=config.dropout,\n",
        "            batch_first=True,\n",
        "            norm_first=True,\n",
        "            activation=nn.GELU()  # Better than default ReLU\n",
        "        )\n",
        "        self.transformer = nn.TransformerEncoder(\n",
        "            encoder_layer,\n",
        "            num_layers=config.num_layers\n",
        "        )\n",
        "\n",
        "        # Output projection\n",
        "        self.out_proj = nn.Sequential(\n",
        "            nn.Linear(self.hidden_dim, self.hidden_dim),\n",
        "            nn.SiLU(),\n",
        "            nn.Linear(self.hidden_dim, self.input_dim),\n",
        "            nn.Hardtanh(min_val=-1.0, max_val=1.0)  # Ensures outputs are in [-1, 1]\n",
        "        )\n",
        "\n",
        "    def forward(self, x: torch.Tensor, t: torch.Tensor) -> torch.Tensor:\n",
        "        \"\"\"\n",
        "        Args:\n",
        "            x: Input tensor of shape (batch_size, channels, seq_len)\n",
        "            t: Timestep tensor of shape (batch_size,)\n",
        "        Returns:\n",
        "            Output tensor of same shape as input\n",
        "        \"\"\"\n",
        "        batch_size, channels, seq_len = x.shape\n",
        "\n",
        "        # Rearrange and project input\n",
        "        x = rearrange(x, \"b c l -> b l c\")\n",
        "        x = self.input_proj(x)\n",
        "\n",
        "        # Add positional embeddings\n",
        "        x = x + self.pos_embed\n",
        "\n",
        "        # Add time embeddings (broadcasted across sequence)\n",
        "        t_embed = self.time_embed(t.unsqueeze(-1).float())  # (batch_size, hidden_dim)\n",
        "        x = x + t_embed.unsqueeze(1)  # Add to each position\n",
        "\n",
        "        # Transformer processing\n",
        "        x = self.transformer(x)\n",
        "\n",
        "        # Project back to input dimension\n",
        "        x = self.out_proj(x)\n",
        "\n",
        "        return rearrange(x, \"b l c -> b c l\")"
      ],
      "metadata": {
        "id": "W0OYPG09FOI_"
      },
      "id": "W0OYPG09FOI_",
      "execution_count": 82,
      "outputs": []
    },
    {
      "cell_type": "code",
      "source": [
        "def train(model, dataloader, scheduler, config, device=\"cuda\"):\n",
        "    model.to(device)\n",
        "    optimizer = optim.Adam(model.parameters(), fused=True, lr=config.lr)\n",
        "\n",
        "    for epoch in trange(config.epochs, desc=\"Training epochs\"):\n",
        "        for batch in dataloader:\n",
        "            x_0 = batch[0].float().to(device)\n",
        "            B = x_0.shape[0]\n",
        "\n",
        "            # Normalize input (critical!)\n",
        "            x_0 = (x_0 - x_0.min()) / (x_0.max() - x_0.min() + 1e-6)\n",
        "            x_0 = 2 * x_0 - 1  # [-1, 1]\n",
        "\n",
        "            t = torch.randint(0, config.num_steps, (B,), device=device)\n",
        "            x_t, noise = scheduler.add_noise(x_0, t)\n",
        "\n",
        "            pred_noise = model(x_t, t)\n",
        "            loss = F.mse_loss(pred_noise, noise)\n",
        "\n",
        "            optimizer.zero_grad()\n",
        "            loss.backward()\n",
        "            torch.nn.utils.clip_grad_norm_(model.parameters(), 1.0)\n",
        "            optimizer.step()\n",
        "\n",
        "            # Debug logging\n",
        "            if torch.isnan(loss).any():\n",
        "                print(\"NaN detected in loss! Terminating.\")\n",
        "                break\n",
        "\n",
        "        print(f\"\\nEpoch {epoch}, Loss: {loss.item():.4f}\")"
      ],
      "metadata": {
        "id": "QmekD5J_FOO-"
      },
      "id": "QmekD5J_FOO-",
      "execution_count": 83,
      "outputs": []
    },
    {
      "cell_type": "code",
      "source": [
        "def create_sequences(data, seq_length):\n",
        "    sequences = []\n",
        "    for i in range(len(data) - seq_length):\n",
        "        sequences.append(data[i:i+seq_length])\n",
        "    return np.array(sequences)"
      ],
      "metadata": {
        "id": "xtmGqBCKIXbu"
      },
      "id": "xtmGqBCKIXbu",
      "execution_count": 84,
      "outputs": []
    },
    {
      "cell_type": "code",
      "source": [
        "@torch.no_grad()\n",
        "def sample(model, scheduler, config, num_samples=1, device=\"cuda\"):\n",
        "    model.eval()\n",
        "    x_t = torch.randn((num_samples, config.input_dim, config.seq_len), device=device)\n",
        "\n",
        "    for t in reversed(range(config.num_steps)):\n",
        "        t_tensor = torch.full((num_samples,), t, device=device)\n",
        "        pred_noise = model(x_t, t_tensor)\n",
        "        x_t = scheduler.step(pred_noise, x_t, t_tensor)\n",
        "\n",
        "    return x_t"
      ],
      "metadata": {
        "id": "SiBDtkIjFOSC"
      },
      "id": "SiBDtkIjFOSC",
      "execution_count": 85,
      "outputs": []
    },
    {
      "cell_type": "code",
      "source": [
        "@dataclass\n",
        "class Config():\n",
        "    seq_len=252\n",
        "    lr=1e-4\n",
        "    input_dim=12\n",
        "    num_steps=1000\n",
        "    hidden_dim=16\n",
        "    batch_size=128\n",
        "    epochs=100\n",
        "\n",
        "config = Config()\n",
        "device = \"cuda\" if torch.cuda.is_available() else 'cpu'\n",
        "\n",
        "scheduler = NoiseScheduler(num_steps=config.num_steps, schedule=\"cosine\", device=device)\n",
        "model = TransformerTimeDiff(config).to(device)"
      ],
      "metadata": {
        "id": "YTjQ7M8VFOVP",
        "colab": {
          "base_uri": "https://localhost:8080/"
        },
        "outputId": "92727e1e-4457-4899-caf9-a33224f239d8"
      },
      "id": "YTjQ7M8VFOVP",
      "execution_count": 86,
      "outputs": [
        {
          "output_type": "stream",
          "name": "stderr",
          "text": [
            "/usr/local/lib/python3.11/dist-packages/torch/nn/modules/transformer.py:385: UserWarning: enable_nested_tensor is True, but self.use_nested_tensor is False because encoder_layer.norm_first was True\n",
            "  warnings.warn(\n"
          ]
        }
      ]
    },
    {
      "cell_type": "code",
      "source": [
        "device"
      ],
      "metadata": {
        "colab": {
          "base_uri": "https://localhost:8080/",
          "height": 35
        },
        "id": "XeOZQJ4VzpDc",
        "outputId": "675458b7-ca00-4f33-90ea-2e28ef2cc2f9"
      },
      "id": "XeOZQJ4VzpDc",
      "execution_count": 87,
      "outputs": [
        {
          "output_type": "execute_result",
          "data": {
            "text/plain": [
              "'cuda'"
            ],
            "application/vnd.google.colaboratory.intrinsic+json": {
              "type": "string"
            }
          },
          "metadata": {},
          "execution_count": 87
        }
      ]
    },
    {
      "cell_type": "code",
      "source": [
        "data_tensor = torch.Tensor(create_sequences(historical_data_train, 252))\n",
        "data_tensor = data_tensor.permute(0, 2, 1)\n",
        "dataset = TensorDataset(data_tensor)\n",
        "dataloader = DataLoader(dataset, batch_size=config.batch_size, shuffle=True)"
      ],
      "metadata": {
        "id": "OqGJkKxwICRW"
      },
      "id": "OqGJkKxwICRW",
      "execution_count": 88,
      "outputs": []
    },
    {
      "cell_type": "code",
      "source": [
        "# Train\n",
        "train(\n",
        "    model=model,\n",
        "    dataloader=dataloader,\n",
        "    scheduler=scheduler,\n",
        "    config=config,\n",
        "    device=device\n",
        ")"
      ],
      "metadata": {
        "colab": {
          "base_uri": "https://localhost:8080/"
        },
        "id": "4nYDF-M1GoLC",
        "outputId": "9e0edb7a-b221-4f2c-f937-85d142454bec"
      },
      "id": "4nYDF-M1GoLC",
      "execution_count": 89,
      "outputs": [
        {
          "output_type": "stream",
          "name": "stderr",
          "text": [
            "Training epochs:   1%|          | 1/100 [00:01<02:27,  1.49s/it]"
          ]
        },
        {
          "output_type": "stream",
          "name": "stdout",
          "text": [
            "\n",
            "Epoch 0, Loss: 1.7922\n"
          ]
        },
        {
          "output_type": "stream",
          "name": "stderr",
          "text": [
            "\rTraining epochs:   2%|▏         | 2/100 [00:02<02:17,  1.41s/it]"
          ]
        },
        {
          "output_type": "stream",
          "name": "stdout",
          "text": [
            "\n",
            "Epoch 1, Loss: 1.7123\n"
          ]
        },
        {
          "output_type": "stream",
          "name": "stderr",
          "text": [
            "\rTraining epochs:   3%|▎         | 3/100 [00:04<02:14,  1.39s/it]"
          ]
        },
        {
          "output_type": "stream",
          "name": "stdout",
          "text": [
            "\n",
            "Epoch 2, Loss: 1.6668\n"
          ]
        },
        {
          "output_type": "stream",
          "name": "stderr",
          "text": [
            "\rTraining epochs:   4%|▍         | 4/100 [00:05<02:12,  1.38s/it]"
          ]
        },
        {
          "output_type": "stream",
          "name": "stdout",
          "text": [
            "\n",
            "Epoch 3, Loss: 1.6808\n"
          ]
        },
        {
          "output_type": "stream",
          "name": "stderr",
          "text": [
            "\rTraining epochs:   5%|▌         | 5/100 [00:06<02:10,  1.37s/it]"
          ]
        },
        {
          "output_type": "stream",
          "name": "stdout",
          "text": [
            "\n",
            "Epoch 4, Loss: 1.6185\n"
          ]
        },
        {
          "output_type": "stream",
          "name": "stderr",
          "text": [
            "\rTraining epochs:   6%|▌         | 6/100 [00:08<02:09,  1.37s/it]"
          ]
        },
        {
          "output_type": "stream",
          "name": "stdout",
          "text": [
            "\n",
            "Epoch 5, Loss: 1.5082\n"
          ]
        },
        {
          "output_type": "stream",
          "name": "stderr",
          "text": [
            "\rTraining epochs:   7%|▋         | 7/100 [00:09<02:08,  1.38s/it]"
          ]
        },
        {
          "output_type": "stream",
          "name": "stdout",
          "text": [
            "\n",
            "Epoch 6, Loss: 1.3876\n"
          ]
        },
        {
          "output_type": "stream",
          "name": "stderr",
          "text": [
            "\rTraining epochs:   8%|▊         | 8/100 [00:11<02:06,  1.37s/it]"
          ]
        },
        {
          "output_type": "stream",
          "name": "stdout",
          "text": [
            "\n",
            "Epoch 7, Loss: 1.3668\n"
          ]
        },
        {
          "output_type": "stream",
          "name": "stderr",
          "text": [
            "\rTraining epochs:   9%|▉         | 9/100 [00:12<02:04,  1.37s/it]"
          ]
        },
        {
          "output_type": "stream",
          "name": "stdout",
          "text": [
            "\n",
            "Epoch 8, Loss: 1.3120\n"
          ]
        },
        {
          "output_type": "stream",
          "name": "stderr",
          "text": [
            "\rTraining epochs:  10%|█         | 10/100 [00:13<02:03,  1.37s/it]"
          ]
        },
        {
          "output_type": "stream",
          "name": "stdout",
          "text": [
            "\n",
            "Epoch 9, Loss: 1.2202\n"
          ]
        },
        {
          "output_type": "stream",
          "name": "stderr",
          "text": [
            "\rTraining epochs:  11%|█         | 11/100 [00:15<02:02,  1.37s/it]"
          ]
        },
        {
          "output_type": "stream",
          "name": "stdout",
          "text": [
            "\n",
            "Epoch 10, Loss: 1.1766\n"
          ]
        },
        {
          "output_type": "stream",
          "name": "stderr",
          "text": [
            "\rTraining epochs:  12%|█▏        | 12/100 [00:16<02:01,  1.38s/it]"
          ]
        },
        {
          "output_type": "stream",
          "name": "stdout",
          "text": [
            "\n",
            "Epoch 11, Loss: 1.1747\n"
          ]
        },
        {
          "output_type": "stream",
          "name": "stderr",
          "text": [
            "\rTraining epochs:  13%|█▎        | 13/100 [00:17<02:00,  1.39s/it]"
          ]
        },
        {
          "output_type": "stream",
          "name": "stdout",
          "text": [
            "\n",
            "Epoch 12, Loss: 1.1593\n"
          ]
        },
        {
          "output_type": "stream",
          "name": "stderr",
          "text": [
            "\rTraining epochs:  14%|█▍        | 14/100 [00:19<01:59,  1.38s/it]"
          ]
        },
        {
          "output_type": "stream",
          "name": "stdout",
          "text": [
            "\n",
            "Epoch 13, Loss: 1.1463\n"
          ]
        },
        {
          "output_type": "stream",
          "name": "stderr",
          "text": [
            "\rTraining epochs:  15%|█▌        | 15/100 [00:20<01:57,  1.39s/it]"
          ]
        },
        {
          "output_type": "stream",
          "name": "stdout",
          "text": [
            "\n",
            "Epoch 14, Loss: 1.0894\n"
          ]
        },
        {
          "output_type": "stream",
          "name": "stderr",
          "text": [
            "\rTraining epochs:  16%|█▌        | 16/100 [00:22<01:56,  1.39s/it]"
          ]
        },
        {
          "output_type": "stream",
          "name": "stdout",
          "text": [
            "\n",
            "Epoch 15, Loss: 1.0655\n"
          ]
        },
        {
          "output_type": "stream",
          "name": "stderr",
          "text": [
            "\rTraining epochs:  17%|█▋        | 17/100 [00:23<01:55,  1.39s/it]"
          ]
        },
        {
          "output_type": "stream",
          "name": "stdout",
          "text": [
            "\n",
            "Epoch 16, Loss: 1.0170\n"
          ]
        },
        {
          "output_type": "stream",
          "name": "stderr",
          "text": [
            "\rTraining epochs:  18%|█▊        | 18/100 [00:24<01:53,  1.39s/it]"
          ]
        },
        {
          "output_type": "stream",
          "name": "stdout",
          "text": [
            "\n",
            "Epoch 17, Loss: 1.0021\n"
          ]
        },
        {
          "output_type": "stream",
          "name": "stderr",
          "text": [
            "\rTraining epochs:  19%|█▉        | 19/100 [00:26<01:52,  1.39s/it]"
          ]
        },
        {
          "output_type": "stream",
          "name": "stdout",
          "text": [
            "\n",
            "Epoch 18, Loss: 0.9892\n"
          ]
        },
        {
          "output_type": "stream",
          "name": "stderr",
          "text": [
            "\rTraining epochs:  20%|██        | 20/100 [00:27<01:51,  1.39s/it]"
          ]
        },
        {
          "output_type": "stream",
          "name": "stdout",
          "text": [
            "\n",
            "Epoch 19, Loss: 0.9749\n"
          ]
        },
        {
          "output_type": "stream",
          "name": "stderr",
          "text": [
            "\rTraining epochs:  21%|██        | 21/100 [00:29<01:49,  1.39s/it]"
          ]
        },
        {
          "output_type": "stream",
          "name": "stdout",
          "text": [
            "\n",
            "Epoch 20, Loss: 0.9690\n"
          ]
        },
        {
          "output_type": "stream",
          "name": "stderr",
          "text": [
            "\rTraining epochs:  22%|██▏       | 22/100 [00:30<01:48,  1.39s/it]"
          ]
        },
        {
          "output_type": "stream",
          "name": "stdout",
          "text": [
            "\n",
            "Epoch 21, Loss: 0.9570\n"
          ]
        },
        {
          "output_type": "stream",
          "name": "stderr",
          "text": [
            "\rTraining epochs:  23%|██▎       | 23/100 [00:31<01:47,  1.39s/it]"
          ]
        },
        {
          "output_type": "stream",
          "name": "stdout",
          "text": [
            "\n",
            "Epoch 22, Loss: 0.9412\n"
          ]
        },
        {
          "output_type": "stream",
          "name": "stderr",
          "text": [
            "\rTraining epochs:  24%|██▍       | 24/100 [00:33<01:46,  1.40s/it]"
          ]
        },
        {
          "output_type": "stream",
          "name": "stdout",
          "text": [
            "\n",
            "Epoch 23, Loss: 0.9240\n"
          ]
        },
        {
          "output_type": "stream",
          "name": "stderr",
          "text": [
            "\rTraining epochs:  25%|██▌       | 25/100 [00:34<01:45,  1.40s/it]"
          ]
        },
        {
          "output_type": "stream",
          "name": "stdout",
          "text": [
            "\n",
            "Epoch 24, Loss: 0.8729\n"
          ]
        },
        {
          "output_type": "stream",
          "name": "stderr",
          "text": [
            "\rTraining epochs:  26%|██▌       | 26/100 [00:36<01:43,  1.40s/it]"
          ]
        },
        {
          "output_type": "stream",
          "name": "stdout",
          "text": [
            "\n",
            "Epoch 25, Loss: 0.8604\n"
          ]
        },
        {
          "output_type": "stream",
          "name": "stderr",
          "text": [
            "\rTraining epochs:  27%|██▋       | 27/100 [00:37<01:42,  1.40s/it]"
          ]
        },
        {
          "output_type": "stream",
          "name": "stdout",
          "text": [
            "\n",
            "Epoch 26, Loss: 0.8356\n"
          ]
        },
        {
          "output_type": "stream",
          "name": "stderr",
          "text": [
            "\rTraining epochs:  28%|██▊       | 28/100 [00:38<01:41,  1.40s/it]"
          ]
        },
        {
          "output_type": "stream",
          "name": "stdout",
          "text": [
            "\n",
            "Epoch 27, Loss: 0.8323\n"
          ]
        },
        {
          "output_type": "stream",
          "name": "stderr",
          "text": [
            "\rTraining epochs:  29%|██▉       | 29/100 [00:40<01:39,  1.40s/it]"
          ]
        },
        {
          "output_type": "stream",
          "name": "stdout",
          "text": [
            "\n",
            "Epoch 28, Loss: 0.8092\n"
          ]
        },
        {
          "output_type": "stream",
          "name": "stderr",
          "text": [
            "\rTraining epochs:  30%|███       | 30/100 [00:41<01:38,  1.40s/it]"
          ]
        },
        {
          "output_type": "stream",
          "name": "stdout",
          "text": [
            "\n",
            "Epoch 29, Loss: 0.7987\n"
          ]
        },
        {
          "output_type": "stream",
          "name": "stderr",
          "text": [
            "\rTraining epochs:  31%|███       | 31/100 [00:43<01:37,  1.41s/it]"
          ]
        },
        {
          "output_type": "stream",
          "name": "stdout",
          "text": [
            "\n",
            "Epoch 30, Loss: 0.7881\n"
          ]
        },
        {
          "output_type": "stream",
          "name": "stderr",
          "text": [
            "\rTraining epochs:  32%|███▏      | 32/100 [00:44<01:35,  1.41s/it]"
          ]
        },
        {
          "output_type": "stream",
          "name": "stdout",
          "text": [
            "\n",
            "Epoch 31, Loss: 0.7793\n"
          ]
        },
        {
          "output_type": "stream",
          "name": "stderr",
          "text": [
            "\rTraining epochs:  33%|███▎      | 33/100 [00:45<01:34,  1.41s/it]"
          ]
        },
        {
          "output_type": "stream",
          "name": "stdout",
          "text": [
            "\n",
            "Epoch 32, Loss: 0.7658\n"
          ]
        },
        {
          "output_type": "stream",
          "name": "stderr",
          "text": [
            "\rTraining epochs:  34%|███▍      | 34/100 [00:47<01:33,  1.41s/it]"
          ]
        },
        {
          "output_type": "stream",
          "name": "stdout",
          "text": [
            "\n",
            "Epoch 33, Loss: 0.7590\n"
          ]
        },
        {
          "output_type": "stream",
          "name": "stderr",
          "text": [
            "\rTraining epochs:  35%|███▌      | 35/100 [00:48<01:31,  1.41s/it]"
          ]
        },
        {
          "output_type": "stream",
          "name": "stdout",
          "text": [
            "\n",
            "Epoch 34, Loss: 0.7531\n"
          ]
        },
        {
          "output_type": "stream",
          "name": "stderr",
          "text": [
            "\rTraining epochs:  36%|███▌      | 36/100 [00:50<01:30,  1.41s/it]"
          ]
        },
        {
          "output_type": "stream",
          "name": "stdout",
          "text": [
            "\n",
            "Epoch 35, Loss: 0.7432\n"
          ]
        },
        {
          "output_type": "stream",
          "name": "stderr",
          "text": [
            "\rTraining epochs:  37%|███▋      | 37/100 [00:51<01:28,  1.41s/it]"
          ]
        },
        {
          "output_type": "stream",
          "name": "stdout",
          "text": [
            "\n",
            "Epoch 36, Loss: 0.7410\n"
          ]
        },
        {
          "output_type": "stream",
          "name": "stderr",
          "text": [
            "\rTraining epochs:  38%|███▊      | 38/100 [00:53<01:27,  1.41s/it]"
          ]
        },
        {
          "output_type": "stream",
          "name": "stdout",
          "text": [
            "\n",
            "Epoch 37, Loss: 0.7301\n"
          ]
        },
        {
          "output_type": "stream",
          "name": "stderr",
          "text": [
            "\rTraining epochs:  39%|███▉      | 39/100 [00:54<01:25,  1.41s/it]"
          ]
        },
        {
          "output_type": "stream",
          "name": "stdout",
          "text": [
            "\n",
            "Epoch 38, Loss: 0.7304\n"
          ]
        },
        {
          "output_type": "stream",
          "name": "stderr",
          "text": [
            "\rTraining epochs:  40%|████      | 40/100 [00:55<01:25,  1.42s/it]"
          ]
        },
        {
          "output_type": "stream",
          "name": "stdout",
          "text": [
            "\n",
            "Epoch 39, Loss: 0.7145\n"
          ]
        },
        {
          "output_type": "stream",
          "name": "stderr",
          "text": [
            "\rTraining epochs:  41%|████      | 41/100 [00:57<01:24,  1.43s/it]"
          ]
        },
        {
          "output_type": "stream",
          "name": "stdout",
          "text": [
            "\n",
            "Epoch 40, Loss: 0.7147\n"
          ]
        },
        {
          "output_type": "stream",
          "name": "stderr",
          "text": [
            "\rTraining epochs:  42%|████▏     | 42/100 [00:58<01:26,  1.49s/it]"
          ]
        },
        {
          "output_type": "stream",
          "name": "stdout",
          "text": [
            "\n",
            "Epoch 41, Loss: 0.6936\n"
          ]
        },
        {
          "output_type": "stream",
          "name": "stderr",
          "text": [
            "\rTraining epochs:  43%|████▎     | 43/100 [01:00<01:25,  1.50s/it]"
          ]
        },
        {
          "output_type": "stream",
          "name": "stdout",
          "text": [
            "\n",
            "Epoch 42, Loss: 0.6942\n"
          ]
        },
        {
          "output_type": "stream",
          "name": "stderr",
          "text": [
            "\rTraining epochs:  44%|████▍     | 44/100 [01:01<01:22,  1.47s/it]"
          ]
        },
        {
          "output_type": "stream",
          "name": "stdout",
          "text": [
            "\n",
            "Epoch 43, Loss: 0.6918\n"
          ]
        },
        {
          "output_type": "stream",
          "name": "stderr",
          "text": [
            "\rTraining epochs:  45%|████▌     | 45/100 [01:03<01:20,  1.45s/it]"
          ]
        },
        {
          "output_type": "stream",
          "name": "stdout",
          "text": [
            "\n",
            "Epoch 44, Loss: 0.6804\n"
          ]
        },
        {
          "output_type": "stream",
          "name": "stderr",
          "text": [
            "\rTraining epochs:  46%|████▌     | 46/100 [01:04<01:17,  1.44s/it]"
          ]
        },
        {
          "output_type": "stream",
          "name": "stdout",
          "text": [
            "\n",
            "Epoch 45, Loss: 0.6740\n"
          ]
        },
        {
          "output_type": "stream",
          "name": "stderr",
          "text": [
            "\rTraining epochs:  47%|████▋     | 47/100 [01:06<01:15,  1.43s/it]"
          ]
        },
        {
          "output_type": "stream",
          "name": "stdout",
          "text": [
            "\n",
            "Epoch 46, Loss: 0.6678\n"
          ]
        },
        {
          "output_type": "stream",
          "name": "stderr",
          "text": [
            "\rTraining epochs:  48%|████▊     | 48/100 [01:07<01:14,  1.42s/it]"
          ]
        },
        {
          "output_type": "stream",
          "name": "stdout",
          "text": [
            "\n",
            "Epoch 47, Loss: 0.6634\n"
          ]
        },
        {
          "output_type": "stream",
          "name": "stderr",
          "text": [
            "\rTraining epochs:  49%|████▉     | 49/100 [01:08<01:12,  1.42s/it]"
          ]
        },
        {
          "output_type": "stream",
          "name": "stdout",
          "text": [
            "\n",
            "Epoch 48, Loss: 0.6541\n"
          ]
        },
        {
          "output_type": "stream",
          "name": "stderr",
          "text": [
            "\rTraining epochs:  50%|█████     | 50/100 [01:10<01:10,  1.42s/it]"
          ]
        },
        {
          "output_type": "stream",
          "name": "stdout",
          "text": [
            "\n",
            "Epoch 49, Loss: 0.6636\n"
          ]
        },
        {
          "output_type": "stream",
          "name": "stderr",
          "text": [
            "\rTraining epochs:  51%|█████     | 51/100 [01:11<01:09,  1.42s/it]"
          ]
        },
        {
          "output_type": "stream",
          "name": "stdout",
          "text": [
            "\n",
            "Epoch 50, Loss: 0.6507\n"
          ]
        },
        {
          "output_type": "stream",
          "name": "stderr",
          "text": [
            "\rTraining epochs:  52%|█████▏    | 52/100 [01:13<01:07,  1.41s/it]"
          ]
        },
        {
          "output_type": "stream",
          "name": "stdout",
          "text": [
            "\n",
            "Epoch 51, Loss: 0.6441\n"
          ]
        },
        {
          "output_type": "stream",
          "name": "stderr",
          "text": [
            "\rTraining epochs:  53%|█████▎    | 53/100 [01:14<01:06,  1.41s/it]"
          ]
        },
        {
          "output_type": "stream",
          "name": "stdout",
          "text": [
            "\n",
            "Epoch 52, Loss: 0.6385\n"
          ]
        },
        {
          "output_type": "stream",
          "name": "stderr",
          "text": [
            "\rTraining epochs:  54%|█████▍    | 54/100 [01:15<01:04,  1.40s/it]"
          ]
        },
        {
          "output_type": "stream",
          "name": "stdout",
          "text": [
            "\n",
            "Epoch 53, Loss: 0.6526\n"
          ]
        },
        {
          "output_type": "stream",
          "name": "stderr",
          "text": [
            "\rTraining epochs:  55%|█████▌    | 55/100 [01:17<01:03,  1.40s/it]"
          ]
        },
        {
          "output_type": "stream",
          "name": "stdout",
          "text": [
            "\n",
            "Epoch 54, Loss: 0.6405\n"
          ]
        },
        {
          "output_type": "stream",
          "name": "stderr",
          "text": [
            "\rTraining epochs:  56%|█████▌    | 56/100 [01:18<01:01,  1.40s/it]"
          ]
        },
        {
          "output_type": "stream",
          "name": "stdout",
          "text": [
            "\n",
            "Epoch 55, Loss: 0.6528\n"
          ]
        },
        {
          "output_type": "stream",
          "name": "stderr",
          "text": [
            "\rTraining epochs:  57%|█████▋    | 57/100 [01:20<01:00,  1.40s/it]"
          ]
        },
        {
          "output_type": "stream",
          "name": "stdout",
          "text": [
            "\n",
            "Epoch 56, Loss: 0.6339\n"
          ]
        },
        {
          "output_type": "stream",
          "name": "stderr",
          "text": [
            "\rTraining epochs:  58%|█████▊    | 58/100 [01:21<00:58,  1.40s/it]"
          ]
        },
        {
          "output_type": "stream",
          "name": "stdout",
          "text": [
            "\n",
            "Epoch 57, Loss: 0.6317\n"
          ]
        },
        {
          "output_type": "stream",
          "name": "stderr",
          "text": [
            "\rTraining epochs:  59%|█████▉    | 59/100 [01:22<00:57,  1.41s/it]"
          ]
        },
        {
          "output_type": "stream",
          "name": "stdout",
          "text": [
            "\n",
            "Epoch 58, Loss: 0.6332\n"
          ]
        },
        {
          "output_type": "stream",
          "name": "stderr",
          "text": [
            "\rTraining epochs:  60%|██████    | 60/100 [01:24<00:56,  1.41s/it]"
          ]
        },
        {
          "output_type": "stream",
          "name": "stdout",
          "text": [
            "\n",
            "Epoch 59, Loss: 0.6249\n"
          ]
        },
        {
          "output_type": "stream",
          "name": "stderr",
          "text": [
            "\rTraining epochs:  61%|██████    | 61/100 [01:25<00:54,  1.40s/it]"
          ]
        },
        {
          "output_type": "stream",
          "name": "stdout",
          "text": [
            "\n",
            "Epoch 60, Loss: 0.6259\n"
          ]
        },
        {
          "output_type": "stream",
          "name": "stderr",
          "text": [
            "\rTraining epochs:  62%|██████▏   | 62/100 [01:27<00:53,  1.40s/it]"
          ]
        },
        {
          "output_type": "stream",
          "name": "stdout",
          "text": [
            "\n",
            "Epoch 61, Loss: 0.6194\n"
          ]
        },
        {
          "output_type": "stream",
          "name": "stderr",
          "text": [
            "\rTraining epochs:  63%|██████▎   | 63/100 [01:28<00:51,  1.40s/it]"
          ]
        },
        {
          "output_type": "stream",
          "name": "stdout",
          "text": [
            "\n",
            "Epoch 62, Loss: 0.6192\n"
          ]
        },
        {
          "output_type": "stream",
          "name": "stderr",
          "text": [
            "\rTraining epochs:  64%|██████▍   | 64/100 [01:29<00:50,  1.41s/it]"
          ]
        },
        {
          "output_type": "stream",
          "name": "stdout",
          "text": [
            "\n",
            "Epoch 63, Loss: 0.6233\n"
          ]
        },
        {
          "output_type": "stream",
          "name": "stderr",
          "text": [
            "\rTraining epochs:  65%|██████▌   | 65/100 [01:31<00:49,  1.41s/it]"
          ]
        },
        {
          "output_type": "stream",
          "name": "stdout",
          "text": [
            "\n",
            "Epoch 64, Loss: 0.6134\n"
          ]
        },
        {
          "output_type": "stream",
          "name": "stderr",
          "text": [
            "\rTraining epochs:  66%|██████▌   | 66/100 [01:32<00:47,  1.40s/it]"
          ]
        },
        {
          "output_type": "stream",
          "name": "stdout",
          "text": [
            "\n",
            "Epoch 65, Loss: 0.6077\n"
          ]
        },
        {
          "output_type": "stream",
          "name": "stderr",
          "text": [
            "\rTraining epochs:  67%|██████▋   | 67/100 [01:34<00:46,  1.40s/it]"
          ]
        },
        {
          "output_type": "stream",
          "name": "stdout",
          "text": [
            "\n",
            "Epoch 66, Loss: 0.6171\n"
          ]
        },
        {
          "output_type": "stream",
          "name": "stderr",
          "text": [
            "\rTraining epochs:  68%|██████▊   | 68/100 [01:35<00:44,  1.41s/it]"
          ]
        },
        {
          "output_type": "stream",
          "name": "stdout",
          "text": [
            "\n",
            "Epoch 67, Loss: 0.6189\n"
          ]
        },
        {
          "output_type": "stream",
          "name": "stderr",
          "text": [
            "\rTraining epochs:  69%|██████▉   | 69/100 [01:37<00:43,  1.40s/it]"
          ]
        },
        {
          "output_type": "stream",
          "name": "stdout",
          "text": [
            "\n",
            "Epoch 68, Loss: 0.6107\n"
          ]
        },
        {
          "output_type": "stream",
          "name": "stderr",
          "text": [
            "\rTraining epochs:  70%|███████   | 70/100 [01:38<00:43,  1.46s/it]"
          ]
        },
        {
          "output_type": "stream",
          "name": "stdout",
          "text": [
            "\n",
            "Epoch 69, Loss: 0.6001\n"
          ]
        },
        {
          "output_type": "stream",
          "name": "stderr",
          "text": [
            "\rTraining epochs:  71%|███████   | 71/100 [01:39<00:41,  1.44s/it]"
          ]
        },
        {
          "output_type": "stream",
          "name": "stdout",
          "text": [
            "\n",
            "Epoch 70, Loss: 0.6007\n"
          ]
        },
        {
          "output_type": "stream",
          "name": "stderr",
          "text": [
            "\rTraining epochs:  72%|███████▏  | 72/100 [01:41<00:39,  1.42s/it]"
          ]
        },
        {
          "output_type": "stream",
          "name": "stdout",
          "text": [
            "\n",
            "Epoch 71, Loss: 0.5993\n"
          ]
        },
        {
          "output_type": "stream",
          "name": "stderr",
          "text": [
            "\rTraining epochs:  73%|███████▎  | 73/100 [01:42<00:38,  1.42s/it]"
          ]
        },
        {
          "output_type": "stream",
          "name": "stdout",
          "text": [
            "\n",
            "Epoch 72, Loss: 0.5987\n"
          ]
        },
        {
          "output_type": "stream",
          "name": "stderr",
          "text": [
            "\rTraining epochs:  74%|███████▍  | 74/100 [01:44<00:36,  1.42s/it]"
          ]
        },
        {
          "output_type": "stream",
          "name": "stdout",
          "text": [
            "\n",
            "Epoch 73, Loss: 0.5976\n"
          ]
        },
        {
          "output_type": "stream",
          "name": "stderr",
          "text": [
            "\rTraining epochs:  75%|███████▌  | 75/100 [01:45<00:35,  1.42s/it]"
          ]
        },
        {
          "output_type": "stream",
          "name": "stdout",
          "text": [
            "\n",
            "Epoch 74, Loss: 0.6001\n"
          ]
        },
        {
          "output_type": "stream",
          "name": "stderr",
          "text": [
            "\rTraining epochs:  76%|███████▌  | 76/100 [01:47<00:35,  1.46s/it]"
          ]
        },
        {
          "output_type": "stream",
          "name": "stdout",
          "text": [
            "\n",
            "Epoch 75, Loss: 0.5976\n"
          ]
        },
        {
          "output_type": "stream",
          "name": "stderr",
          "text": [
            "\rTraining epochs:  77%|███████▋  | 77/100 [01:48<00:34,  1.51s/it]"
          ]
        },
        {
          "output_type": "stream",
          "name": "stdout",
          "text": [
            "\n",
            "Epoch 76, Loss: 0.5839\n"
          ]
        },
        {
          "output_type": "stream",
          "name": "stderr",
          "text": [
            "\rTraining epochs:  78%|███████▊  | 78/100 [01:50<00:32,  1.48s/it]"
          ]
        },
        {
          "output_type": "stream",
          "name": "stdout",
          "text": [
            "\n",
            "Epoch 77, Loss: 0.5904\n"
          ]
        },
        {
          "output_type": "stream",
          "name": "stderr",
          "text": [
            "\rTraining epochs:  79%|███████▉  | 79/100 [01:51<00:30,  1.46s/it]"
          ]
        },
        {
          "output_type": "stream",
          "name": "stdout",
          "text": [
            "\n",
            "Epoch 78, Loss: 0.5835\n"
          ]
        },
        {
          "output_type": "stream",
          "name": "stderr",
          "text": [
            "\rTraining epochs:  80%|████████  | 80/100 [01:53<00:28,  1.44s/it]"
          ]
        },
        {
          "output_type": "stream",
          "name": "stdout",
          "text": [
            "\n",
            "Epoch 79, Loss: 0.5838\n"
          ]
        },
        {
          "output_type": "stream",
          "name": "stderr",
          "text": [
            "\rTraining epochs:  81%|████████  | 81/100 [01:54<00:27,  1.43s/it]"
          ]
        },
        {
          "output_type": "stream",
          "name": "stdout",
          "text": [
            "\n",
            "Epoch 80, Loss: 0.5799\n"
          ]
        },
        {
          "output_type": "stream",
          "name": "stderr",
          "text": [
            "\rTraining epochs:  82%|████████▏ | 82/100 [01:55<00:25,  1.42s/it]"
          ]
        },
        {
          "output_type": "stream",
          "name": "stdout",
          "text": [
            "\n",
            "Epoch 81, Loss: 0.5813\n"
          ]
        },
        {
          "output_type": "stream",
          "name": "stderr",
          "text": [
            "\rTraining epochs:  83%|████████▎ | 83/100 [01:57<00:24,  1.42s/it]"
          ]
        },
        {
          "output_type": "stream",
          "name": "stdout",
          "text": [
            "\n",
            "Epoch 82, Loss: 0.5711\n"
          ]
        },
        {
          "output_type": "stream",
          "name": "stderr",
          "text": [
            "\rTraining epochs:  84%|████████▍ | 84/100 [01:58<00:22,  1.42s/it]"
          ]
        },
        {
          "output_type": "stream",
          "name": "stdout",
          "text": [
            "\n",
            "Epoch 83, Loss: 0.5744\n"
          ]
        },
        {
          "output_type": "stream",
          "name": "stderr",
          "text": [
            "\rTraining epochs:  85%|████████▌ | 85/100 [02:00<00:21,  1.42s/it]"
          ]
        },
        {
          "output_type": "stream",
          "name": "stdout",
          "text": [
            "\n",
            "Epoch 84, Loss: 0.5657\n"
          ]
        },
        {
          "output_type": "stream",
          "name": "stderr",
          "text": [
            "\rTraining epochs:  86%|████████▌ | 86/100 [02:01<00:19,  1.41s/it]"
          ]
        },
        {
          "output_type": "stream",
          "name": "stdout",
          "text": [
            "\n",
            "Epoch 85, Loss: 0.5701\n"
          ]
        },
        {
          "output_type": "stream",
          "name": "stderr",
          "text": [
            "\rTraining epochs:  87%|████████▋ | 87/100 [02:02<00:18,  1.41s/it]"
          ]
        },
        {
          "output_type": "stream",
          "name": "stdout",
          "text": [
            "\n",
            "Epoch 86, Loss: 0.5493\n"
          ]
        },
        {
          "output_type": "stream",
          "name": "stderr",
          "text": [
            "\rTraining epochs:  88%|████████▊ | 88/100 [02:04<00:16,  1.41s/it]"
          ]
        },
        {
          "output_type": "stream",
          "name": "stdout",
          "text": [
            "\n",
            "Epoch 87, Loss: 0.5584\n"
          ]
        },
        {
          "output_type": "stream",
          "name": "stderr",
          "text": [
            "\rTraining epochs:  89%|████████▉ | 89/100 [02:05<00:15,  1.41s/it]"
          ]
        },
        {
          "output_type": "stream",
          "name": "stdout",
          "text": [
            "\n",
            "Epoch 88, Loss: 0.5537\n"
          ]
        },
        {
          "output_type": "stream",
          "name": "stderr",
          "text": [
            "\rTraining epochs:  90%|█████████ | 90/100 [02:07<00:14,  1.41s/it]"
          ]
        },
        {
          "output_type": "stream",
          "name": "stdout",
          "text": [
            "\n",
            "Epoch 89, Loss: 0.5450\n"
          ]
        },
        {
          "output_type": "stream",
          "name": "stderr",
          "text": [
            "\rTraining epochs:  91%|█████████ | 91/100 [02:08<00:12,  1.41s/it]"
          ]
        },
        {
          "output_type": "stream",
          "name": "stdout",
          "text": [
            "\n",
            "Epoch 90, Loss: 0.5460\n"
          ]
        },
        {
          "output_type": "stream",
          "name": "stderr",
          "text": [
            "\rTraining epochs:  92%|█████████▏| 92/100 [02:09<00:11,  1.41s/it]"
          ]
        },
        {
          "output_type": "stream",
          "name": "stdout",
          "text": [
            "\n",
            "Epoch 91, Loss: 0.5413\n"
          ]
        },
        {
          "output_type": "stream",
          "name": "stderr",
          "text": [
            "\rTraining epochs:  93%|█████████▎| 93/100 [02:11<00:09,  1.41s/it]"
          ]
        },
        {
          "output_type": "stream",
          "name": "stdout",
          "text": [
            "\n",
            "Epoch 92, Loss: 0.5509\n"
          ]
        },
        {
          "output_type": "stream",
          "name": "stderr",
          "text": [
            "\rTraining epochs:  94%|█████████▍| 94/100 [02:12<00:08,  1.41s/it]"
          ]
        },
        {
          "output_type": "stream",
          "name": "stdout",
          "text": [
            "\n",
            "Epoch 93, Loss: 0.5395\n"
          ]
        },
        {
          "output_type": "stream",
          "name": "stderr",
          "text": [
            "\rTraining epochs:  95%|█████████▌| 95/100 [02:14<00:07,  1.41s/it]"
          ]
        },
        {
          "output_type": "stream",
          "name": "stdout",
          "text": [
            "\n",
            "Epoch 94, Loss: 0.5464\n"
          ]
        },
        {
          "output_type": "stream",
          "name": "stderr",
          "text": [
            "\rTraining epochs:  96%|█████████▌| 96/100 [02:15<00:05,  1.41s/it]"
          ]
        },
        {
          "output_type": "stream",
          "name": "stdout",
          "text": [
            "\n",
            "Epoch 95, Loss: 0.5362\n"
          ]
        },
        {
          "output_type": "stream",
          "name": "stderr",
          "text": [
            "\rTraining epochs:  97%|█████████▋| 97/100 [02:16<00:04,  1.41s/it]"
          ]
        },
        {
          "output_type": "stream",
          "name": "stdout",
          "text": [
            "\n",
            "Epoch 96, Loss: 0.5399\n"
          ]
        },
        {
          "output_type": "stream",
          "name": "stderr",
          "text": [
            "\rTraining epochs:  98%|█████████▊| 98/100 [02:18<00:02,  1.41s/it]"
          ]
        },
        {
          "output_type": "stream",
          "name": "stdout",
          "text": [
            "\n",
            "Epoch 97, Loss: 0.5332\n"
          ]
        },
        {
          "output_type": "stream",
          "name": "stderr",
          "text": [
            "\rTraining epochs:  99%|█████████▉| 99/100 [02:19<00:01,  1.40s/it]"
          ]
        },
        {
          "output_type": "stream",
          "name": "stdout",
          "text": [
            "\n",
            "Epoch 98, Loss: 0.5330\n"
          ]
        },
        {
          "output_type": "stream",
          "name": "stderr",
          "text": [
            "Training epochs: 100%|██████████| 100/100 [02:21<00:00,  1.41s/it]"
          ]
        },
        {
          "output_type": "stream",
          "name": "stdout",
          "text": [
            "\n",
            "Epoch 99, Loss: 0.5240\n"
          ]
        },
        {
          "output_type": "stream",
          "name": "stderr",
          "text": [
            "\n"
          ]
        }
      ]
    },
    {
      "cell_type": "code",
      "source": [
        "historical_data_validate = historical_data[\"2024-01-01\":].iloc[:253,:]"
      ],
      "metadata": {
        "id": "pEzxo94-IMD1"
      },
      "id": "pEzxo94-IMD1",
      "execution_count": 90,
      "outputs": []
    },
    {
      "cell_type": "code",
      "source": [
        "# Generate\n",
        "synthetic_samples = sample(model, scheduler, config, num_samples=1_00)\n",
        "synthetic_samples = synthetic_samples.permute(0, 2, 1)"
      ],
      "metadata": {
        "id": "GxEUlNJyJlpD"
      },
      "id": "GxEUlNJyJlpD",
      "execution_count": null,
      "outputs": []
    },
    {
      "cell_type": "code",
      "source": [
        "# synthetic_samples"
      ],
      "metadata": {
        "id": "3ZPjNc6i3ly_"
      },
      "id": "3ZPjNc6i3ly_",
      "execution_count": null,
      "outputs": []
    },
    {
      "cell_type": "code",
      "source": [
        "# for i in range(historical_data_validate.shape[1]):\n",
        "i=0\n",
        "\n",
        "sim_data = synthetic_samples[:, :, i].detach().to(\"cpu\").numpy() * std[i] - mean[i]\n",
        "sim_data = pd.DataFrame(sim_data)\n",
        "sim_data = np.exp(np.cumsum(sim_data.T, axis=0))\n",
        "sim_data = historical_data_validate.iloc[0, i] * sim_data\n",
        "\n",
        "sim_data.quantile([0.01, 0.5, 0.99], axis=1).T.plot()\n",
        "plt.plot(historical_data_validate.iloc[1:, i].values, label=\"real\")\n",
        "plt.legend()\n",
        "plt.title(historical_data_validate.columns[i])\n",
        "plt.show()"
      ],
      "metadata": {
        "colab": {
          "base_uri": "https://localhost:8080/",
          "height": 507
        },
        "id": "u11xzKslNEGz",
        "outputId": "558ed95a-f0d3-46fc-a15f-efbd474d1a53"
      },
      "id": "u11xzKslNEGz",
      "execution_count": 74,
      "outputs": [
        {
          "output_type": "stream",
          "name": "stderr",
          "text": [
            "/tmp/ipython-input-74-99251181.py:4: FutureWarning: Series.__getitem__ treating keys as positions is deprecated. In a future version, integer keys will always be treated as labels (consistent with DataFrame behavior). To access a value by position, use `ser.iloc[pos]`\n",
            "  sim_data = synthetic_samples[:, :, i].detach().to(\"cpu\").numpy() * std[i] - mean[i]\n"
          ]
        },
        {
          "output_type": "display_data",
          "data": {
            "text/plain": [
              "<Figure size 640x480 with 1 Axes>"
            ],
            "image/png": "[encoded data removed]"
          },
          "metadata": {}
        }
      ]
    },
    {
      "cell_type": "code",
      "source": [
        "sim_data.plot(legend=False)"
      ],
      "metadata": {
        "colab": {
          "base_uri": "https://localhost:8080/",
          "height": 447
        },
        "id": "r7uMS6LdOqTx",
        "outputId": "ff6a2c2e-c018-49e2-f727-7ed160f8af9c"
      },
      "id": "r7uMS6LdOqTx",
      "execution_count": 75,
      "outputs": [
        {
          "output_type": "execute_result",
          "data": {
            "text/plain": [
              "<Axes: >"
            ]
          },
          "metadata": {},
          "execution_count": 75
        },
        {
          "output_type": "display_data",
          "data": {
            "text/plain": [
              "<Figure size 640x480 with 1 Axes>"
            ],
            "image/png": "[encoded data removed]"
          },
          "metadata": {}
        }
      ]
    },
    {
      "cell_type": "code",
      "source": [],
      "metadata": {
        "id": "q8yD39SlvFob"
      },
      "id": "q8yD39SlvFob",
      "execution_count": null,
      "outputs": []
    }
  ],
  "metadata": {
    "kernelspec": {
      "display_name": "Python 3",
      "name": "python3"
    },
    "language_info": {
      "codemirror_mode": {
        "name": "ipython",
        "version": 3
      },
      "file_extension": ".py",
      "mimetype": "text/x-python",
      "name": "python",
      "nbconvert_exporter": "python",
      "pygments_lexer": "ipython3",
      "version": "3.12.4"
    },
    "colab": {
      "provenance": [],
      "gpuType": "T4"
    },
    "accelerator": "GPU"
  },
  "nbformat": 4,
  "nbformat_minor": 5
}