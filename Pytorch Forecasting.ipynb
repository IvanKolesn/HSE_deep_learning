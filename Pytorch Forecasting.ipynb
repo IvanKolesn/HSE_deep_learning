{
  "cells": [
    {
      "cell_type": "code",
      "source": [
        "%pip show pytorch-forecasting\n",
        "# %pip install pytorch-forecasting"
      ],
      "metadata": {
        "colab": {
          "base_uri": "https://localhost:8080/"
        },
        "id": "s4AVcVRatuLs",
        "outputId": "024e5ec7-dfad-47ee-865f-5f9cc4c3fb9a"
      },
      "id": "s4AVcVRatuLs",
      "execution_count": 1,
      "outputs": [
        {
          "output_type": "stream",
          "name": "stdout",
          "text": [
            "Name: pytorch-forecasting\n",
            "Version: 1.4.0\n",
            "Summary: Forecasting timeseries with PyTorch - dataloaders, normalizers, metrics and models\n",
            "Home-page: \n",
            "Author: Jan Beitner\n",
            "Author-email: \n",
            "License: \n",
            "Location: /usr/local/lib/python3.11/dist-packages\n",
            "Requires: lightning, numpy, pandas, scikit-learn, scipy, torch\n",
            "Required-by: \n"
          ]
        }
      ]
    },
    {
      "cell_type": "code",
      "source": [
        "!nvidia-smi"
      ],
      "metadata": {
        "colab": {
          "base_uri": "https://localhost:8080/"
        },
        "id": "6uKsExwAumKx",
        "outputId": "3ae1f157-8921-4589-f466-004d234a5596"
      },
      "id": "6uKsExwAumKx",
      "execution_count": 2,
      "outputs": [
        {
          "output_type": "stream",
          "name": "stdout",
          "text": [
            "Sat Jun 21 12:26:44 2025       \n",
            "+-----------------------------------------------------------------------------------------+\n",
            "| NVIDIA-SMI 550.54.15              Driver Version: 550.54.15      CUDA Version: 12.4     |\n",
            "|-----------------------------------------+------------------------+----------------------+\n",
            "| GPU  Name                 Persistence-M | Bus-Id          Disp.A | Volatile Uncorr. ECC |\n",
            "| Fan  Temp   Perf          Pwr:Usage/Cap |           Memory-Usage | GPU-Util  Compute M. |\n",
            "|                                         |                        |               MIG M. |\n",
            "|=========================================+========================+======================|\n",
            "|   0  Tesla T4                       Off |   00000000:00:04.0 Off |                    0 |\n",
            "| N/A   73C    P8             11W /   70W |       0MiB /  15360MiB |      0%      Default |\n",
            "|                                         |                        |                  N/A |\n",
            "+-----------------------------------------+------------------------+----------------------+\n",
            "                                                                                         \n",
            "+-----------------------------------------------------------------------------------------+\n",
            "| Processes:                                                                              |\n",
            "|  GPU   GI   CI        PID   Type   Process name                              GPU Memory |\n",
            "|        ID   ID                                                               Usage      |\n",
            "|=========================================================================================|\n",
            "|  No running processes found                                                             |\n",
            "+-----------------------------------------------------------------------------------------+\n"
          ]
        }
      ]
    },
    {
      "cell_type": "code",
      "execution_count": 3,
      "id": "4c3f65a2-8fa4-4331-94ad-3ba553c48d33",
      "metadata": {
        "id": "4c3f65a2-8fa4-4331-94ad-3ba553c48d33"
      },
      "outputs": [],
      "source": [
        "import lightning.pytorch as pl\n",
        "import pandas as pd\n",
        "import matplotlib.pyplot as plt\n",
        "import torch\n",
        "\n",
        "from lightning.pytorch.loggers import TensorBoardLogger\n",
        "from lightning.pytorch.callbacks import EarlyStopping, LearningRateMonitor, ModelCheckpoint\n",
        "from lightning.pytorch.tuner import Tuner\n",
        "\n",
        "from pytorch_forecasting.data import TorchNormalizer\n",
        "from pytorch_forecasting.data.examples import generate_ar_data\n",
        "from pytorch_forecasting import RMSE, TimeSeriesDataSet, TemporalFusionTransformer, DeepAR, Baseline, NormalDistributionLoss, QuantileLoss"
      ]
    },
    {
      "cell_type": "markdown",
      "id": "7fb98210-c9d0-445f-b278-8b090ae36a21",
      "metadata": {
        "id": "7fb98210-c9d0-445f-b278-8b090ae36a21"
      },
      "source": [
        "1. https://github.com/sktime/pytorch-forecasting\n",
        "2. https://www.cbr.ru/hd_base/ruonia/dynamics/\n",
        "3. https://www.moex.com/en/index/rtsusdcur.aspx?tid=2601"
      ]
    },
    {
      "cell_type": "markdown",
      "id": "9d8d15a6-62d3-40c8-83d6-55fd80b52f9e",
      "metadata": {
        "id": "9d8d15a6-62d3-40c8-83d6-55fd80b52f9e"
      },
      "source": [
        "## Data"
      ]
    },
    {
      "cell_type": "code",
      "source": [
        "!ls"
      ],
      "metadata": {
        "colab": {
          "base_uri": "https://localhost:8080/"
        },
        "id": "QLmNzBm-uuUY",
        "outputId": "eb092dec-76a6-41ca-e248-96fca6d5382d"
      },
      "id": "QLmNzBm-uuUY",
      "execution_count": 4,
      "outputs": [
        {
          "output_type": "stream",
          "name": "stdout",
          "text": [
            "lightning_logs\tsample_data  tft.pkl\n"
          ]
        }
      ]
    },
    {
      "cell_type": "code",
      "execution_count": 5,
      "id": "5ad58049-e885-44ec-a5d2-f87a18c1bb94",
      "metadata": {
        "id": "5ad58049-e885-44ec-a5d2-f87a18c1bb94"
      },
      "outputs": [],
      "source": [
        "# ruonia = pd.read_excel(\"ruonia.xlsx\")"
      ]
    },
    {
      "cell_type": "code",
      "execution_count": 6,
      "id": "04e3c620-3d8f-4708-8499-fd30f47f0ca5",
      "metadata": {
        "id": "04e3c620-3d8f-4708-8499-fd30f47f0ca5"
      },
      "outputs": [],
      "source": [
        "# ruonia['date'] = pd.to_datetime(ruonia['DT'], format=\"%Y-%m-%d\")\n",
        "# ruonia['ruo'] /= 100\n",
        "# ruonia = ruonia.loc[:, [\"date\", \"ruo\"]]"
      ]
    },
    {
      "cell_type": "code",
      "execution_count": 7,
      "id": "6b2da0bf-8f31-4842-b1b9-b7c89c2e9768",
      "metadata": {
        "id": "6b2da0bf-8f31-4842-b1b9-b7c89c2e9768"
      },
      "outputs": [],
      "source": [
        "# usdrub = pd.read_csv(\"Rtsudcur.csv\", sep=\";\")"
      ]
    },
    {
      "cell_type": "code",
      "execution_count": 8,
      "id": "0f8c5e1a-0a1c-4ec3-9ebe-49babd832fec",
      "metadata": {
        "id": "0f8c5e1a-0a1c-4ec3-9ebe-49babd832fec"
      },
      "outputs": [],
      "source": [
        "# usdrub.columns=[\"date\", \"usdrub\"]\n",
        "# usdrub['date'] = pd.to_datetime(usdrub['date'], format=\"%Y-%m-%d\")"
      ]
    },
    {
      "cell_type": "code",
      "execution_count": 9,
      "id": "1d08eaa1-dc1f-45d5-828a-997553891a76",
      "metadata": {
        "id": "1d08eaa1-dc1f-45d5-828a-997553891a76"
      },
      "outputs": [],
      "source": [
        "# full_data = pd.merge(ruonia, usdrub, on=\"date\")\n",
        "# full_data.set_index(\"date\").plot(subplots=True)"
      ]
    },
    {
      "cell_type": "markdown",
      "id": "54999410-e968-414d-883f-13b7b20a965c",
      "metadata": {
        "id": "54999410-e968-414d-883f-13b7b20a965c"
      },
      "source": [
        "trying monthly"
      ]
    },
    {
      "cell_type": "code",
      "execution_count": 10,
      "id": "04e5c8dc-9e92-4e27-b819-e435d46db2ae",
      "metadata": {
        "id": "04e5c8dc-9e92-4e27-b819-e435d46db2ae"
      },
      "outputs": [],
      "source": [
        "# full_data = (\n",
        "#     full_data.sort_values(\"date\")\n",
        "#     .assign(date=lambda df: df.date + pd.tseries.offsets.MonthEnd(1))\n",
        "#     .drop_duplicates(subset=[\"date\"], keep=\"last\")\n",
        "# )"
      ]
    },
    {
      "cell_type": "code",
      "execution_count": 11,
      "id": "a4abda0b-a1a5-47cf-bee0-3d2a3216684b",
      "metadata": {
        "id": "a4abda0b-a1a5-47cf-bee0-3d2a3216684b"
      },
      "outputs": [],
      "source": [
        "# full_data['const'] = 1"
      ]
    },
    {
      "cell_type": "code",
      "execution_count": 12,
      "id": "6b9de9fb-440a-4224-bbcc-d0d44c829e9e",
      "metadata": {
        "id": "6b9de9fb-440a-4224-bbcc-d0d44c829e9e"
      },
      "outputs": [],
      "source": [
        "# full_data = full_data.reset_index(drop=True)\n",
        "# full_data = full_data.reset_index(drop=False)"
      ]
    },
    {
      "cell_type": "markdown",
      "id": "3fa493f4-f5b0-4d79-8728-9d69b1a00c9f",
      "metadata": {
        "id": "3fa493f4-f5b0-4d79-8728-9d69b1a00c9f"
      },
      "source": [
        "## Model\n",
        "\n",
        "### Data"
      ]
    },
    {
      "cell_type": "code",
      "source": [
        "full_data = generate_ar_data(n_series=1, timesteps=2500, trend=0, seasonality=4, noise=0.1, level=1)"
      ],
      "metadata": {
        "id": "WUhFDSMcOOsF"
      },
      "id": "WUhFDSMcOOsF",
      "execution_count": 13,
      "outputs": []
    },
    {
      "cell_type": "code",
      "source": [
        "full_data.head()"
      ],
      "metadata": {
        "colab": {
          "base_uri": "https://localhost:8080/",
          "height": 206
        },
        "id": "d7ZbkW9wOfdk",
        "outputId": "79ccd030-42db-4105-91d3-678a1c1395b8"
      },
      "id": "d7ZbkW9wOfdk",
      "execution_count": 14,
      "outputs": [
        {
          "output_type": "execute_result",
          "data": {
            "text/plain": [
              "   series  time_idx     value\n",
              "0       0         0  0.000000\n",
              "1       0         1  0.007177\n",
              "2       0         2  0.013966\n",
              "3       0         3  0.021721\n",
              "4       0         4  0.028431"
            ],
            "text/html": [
              "\n",
              "  <div id=\"df-dff27979-bd22-4c89-95ee-23c85638c6f6\" class=\"colab-df-container\">\n",
              "    <div>\n",
              "<style scoped>\n",
              "    .dataframe tbody tr th:only-of-type {\n",
              "        vertical-align: middle;\n",
              "    }\n",
              "\n",
              "    .dataframe tbody tr th {\n",
              "        vertical-align: top;\n",
              "    }\n",
              "\n",
              "    .dataframe thead th {\n",
              "        text-align: right;\n",
              "    }\n",
              "</style>\n",
              "<table border=\"1\" class=\"dataframe\">\n",
              "  <thead>\n",
              "    <tr style=\"text-align: right;\">\n",
              "      <th></th>\n",
              "      <th>series</th>\n",
              "      <th>time_idx</th>\n",
              "      <th>value</th>\n",
              "    </tr>\n",
              "  </thead>\n",
              "  <tbody>\n",
              "    <tr>\n",
              "      <th>0</th>\n",
              "      <td>0</td>\n",
              "      <td>0</td>\n",
              "      <td>0.000000</td>\n",
              "    </tr>\n",
              "    <tr>\n",
              "      <th>1</th>\n",
              "      <td>0</td>\n",
              "      <td>1</td>\n",
              "      <td>0.007177</td>\n",
              "    </tr>\n",
              "    <tr>\n",
              "      <th>2</th>\n",
              "      <td>0</td>\n",
              "      <td>2</td>\n",
              "      <td>0.013966</td>\n",
              "    </tr>\n",
              "    <tr>\n",
              "      <th>3</th>\n",
              "      <td>0</td>\n",
              "      <td>3</td>\n",
              "      <td>0.021721</td>\n",
              "    </tr>\n",
              "    <tr>\n",
              "      <th>4</th>\n",
              "      <td>0</td>\n",
              "      <td>4</td>\n",
              "      <td>0.028431</td>\n",
              "    </tr>\n",
              "  </tbody>\n",
              "</table>\n",
              "</div>\n",
              "    <div class=\"colab-df-buttons\">\n",
              "\n",
              "  <div class=\"colab-df-container\">\n",
              "    <button class=\"colab-df-convert\" onclick=\"convertToInteractive('df-dff27979-bd22-4c89-95ee-23c85638c6f6')\"\n",
              "            title=\"Convert this dataframe to an interactive table.\"\n",
              "            style=\"display:none;\">\n",
              "\n",
              "  <svg xmlns=\"http://www.w3.org/2000/svg\" height=\"24px\" viewBox=\"0 -960 960 960\">\n",
              "    <path d=\"M120-120v-720h720v720H120Zm60-500h600v-160H180v160Zm220 220h160v-160H400v160Zm0 220h160v-160H400v160ZM180-400h160v-160H180v160Zm440 0h160v-160H620v160ZM180-180h160v-160H180v160Zm440 0h160v-160H620v160Z\"/>\n",
              "  </svg>\n",
              "    </button>\n",
              "\n",
              "  <style>\n",
              "    .colab-df-container {\n",
              "      display:flex;\n",
              "      gap: 12px;\n",
              "    }\n",
              "\n",
              "    .colab-df-convert {\n",
              "      background-color: #E8F0FE;\n",
              "      border: none;\n",
              "      border-radius: 50%;\n",
              "      cursor: pointer;\n",
              "      display: none;\n",
              "      fill: #1967D2;\n",
              "      height: 32px;\n",
              "      padding: 0 0 0 0;\n",
              "      width: 32px;\n",
              "    }\n",
              "\n",
              "    .colab-df-convert:hover {\n",
              "      background-color: #E2EBFA;\n",
              "      box-shadow: 0px 1px 2px rgba(60, 64, 67, 0.3), 0px 1px 3px 1px rgba(60, 64, 67, 0.15);\n",
              "      fill: #174EA6;\n",
              "    }\n",
              "\n",
              "    .colab-df-buttons div {\n",
              "      margin-bottom: 4px;\n",
              "    }\n",
              "\n",
              "    [theme=dark] .colab-df-convert {\n",
              "      background-color: #3B4455;\n",
              "      fill: #D2E3FC;\n",
              "    }\n",
              "\n",
              "    [theme=dark] .colab-df-convert:hover {\n",
              "      background-color: #434B5C;\n",
              "      box-shadow: 0px 1px 3px 1px rgba(0, 0, 0, 0.15);\n",
              "      filter: drop-shadow(0px 1px 2px rgba(0, 0, 0, 0.3));\n",
              "      fill: #FFFFFF;\n",
              "    }\n",
              "  </style>\n",
              "\n",
              "    <script>\n",
              "      const buttonEl =\n",
              "        document.querySelector('#df-dff27979-bd22-4c89-95ee-23c85638c6f6 button.colab-df-convert');\n",
              "      buttonEl.style.display =\n",
              "        google.colab.kernel.accessAllowed ? 'block' : 'none';\n",
              "\n",
              "      async function convertToInteractive(key) {\n",
              "        const element = document.querySelector('#df-dff27979-bd22-4c89-95ee-23c85638c6f6');\n",
              "        const dataTable =\n",
              "          await google.colab.kernel.invokeFunction('convertToInteractive',\n",
              "                                                    [key], {});\n",
              "        if (!dataTable) return;\n",
              "\n",
              "        const docLinkHtml = 'Like what you see? Visit the ' +\n",
              "          '<a target=\"_blank\" href=https://colab.research.google.com/notebooks/data_table.ipynb>data table notebook</a>'\n",
              "          + ' to learn more about interactive tables.';\n",
              "        element.innerHTML = '';\n",
              "        dataTable['output_type'] = 'display_data';\n",
              "        await google.colab.output.renderOutput(dataTable, element);\n",
              "        const docLink = document.createElement('div');\n",
              "        docLink.innerHTML = docLinkHtml;\n",
              "        element.appendChild(docLink);\n",
              "      }\n",
              "    </script>\n",
              "  </div>\n",
              "\n",
              "\n",
              "    <div id=\"df-b6f4ca49-20a6-460e-834d-d38a56b9c61c\">\n",
              "      <button class=\"colab-df-quickchart\" onclick=\"quickchart('df-b6f4ca49-20a6-460e-834d-d38a56b9c61c')\"\n",
              "                title=\"Suggest charts\"\n",
              "                style=\"display:none;\">\n",
              "\n",
              "<svg xmlns=\"http://www.w3.org/2000/svg\" height=\"24px\"viewBox=\"0 0 24 24\"\n",
              "     width=\"24px\">\n",
              "    <g>\n",
              "        <path d=\"M19 3H5c-1.1 0-2 .9-2 2v14c0 1.1.9 2 2 2h14c1.1 0 2-.9 2-2V5c0-1.1-.9-2-2-2zM9 17H7v-7h2v7zm4 0h-2V7h2v10zm4 0h-2v-4h2v4z\"/>\n",
              "    </g>\n",
              "</svg>\n",
              "      </button>\n",
              "\n",
              "<style>\n",
              "  .colab-df-quickchart {\n",
              "      --bg-color: #E8F0FE;\n",
              "      --fill-color: #1967D2;\n",
              "      --hover-bg-color: #E2EBFA;\n",
              "      --hover-fill-color: #174EA6;\n",
              "      --disabled-fill-color: #AAA;\n",
              "      --disabled-bg-color: #DDD;\n",
              "  }\n",
              "\n",
              "  [theme=dark] .colab-df-quickchart {\n",
              "      --bg-color: #3B4455;\n",
              "      --fill-color: #D2E3FC;\n",
              "      --hover-bg-color: #434B5C;\n",
              "      --hover-fill-color: #FFFFFF;\n",
              "      --disabled-bg-color: #3B4455;\n",
              "      --disabled-fill-color: #666;\n",
              "  }\n",
              "\n",
              "  .colab-df-quickchart {\n",
              "    background-color: var(--bg-color);\n",
              "    border: none;\n",
              "    border-radius: 50%;\n",
              "    cursor: pointer;\n",
              "    display: none;\n",
              "    fill: var(--fill-color);\n",
              "    height: 32px;\n",
              "    padding: 0;\n",
              "    width: 32px;\n",
              "  }\n",
              "\n",
              "  .colab-df-quickchart:hover {\n",
              "    background-color: var(--hover-bg-color);\n",
              "    box-shadow: 0 1px 2px rgba(60, 64, 67, 0.3), 0 1px 3px 1px rgba(60, 64, 67, 0.15);\n",
              "    fill: var(--button-hover-fill-color);\n",
              "  }\n",
              "\n",
              "  .colab-df-quickchart-complete:disabled,\n",
              "  .colab-df-quickchart-complete:disabled:hover {\n",
              "    background-color: var(--disabled-bg-color);\n",
              "    fill: var(--disabled-fill-color);\n",
              "    box-shadow: none;\n",
              "  }\n",
              "\n",
              "  .colab-df-spinner {\n",
              "    border: 2px solid var(--fill-color);\n",
              "    border-color: transparent;\n",
              "    border-bottom-color: var(--fill-color);\n",
              "    animation:\n",
              "      spin 1s steps(1) infinite;\n",
              "  }\n",
              "\n",
              "  @keyframes spin {\n",
              "    0% {\n",
              "      border-color: transparent;\n",
              "      border-bottom-color: var(--fill-color);\n",
              "      border-left-color: var(--fill-color);\n",
              "    }\n",
              "    20% {\n",
              "      border-color: transparent;\n",
              "      border-left-color: var(--fill-color);\n",
              "      border-top-color: var(--fill-color);\n",
              "    }\n",
              "    30% {\n",
              "      border-color: transparent;\n",
              "      border-left-color: var(--fill-color);\n",
              "      border-top-color: var(--fill-color);\n",
              "      border-right-color: var(--fill-color);\n",
              "    }\n",
              "    40% {\n",
              "      border-color: transparent;\n",
              "      border-right-color: var(--fill-color);\n",
              "      border-top-color: var(--fill-color);\n",
              "    }\n",
              "    60% {\n",
              "      border-color: transparent;\n",
              "      border-right-color: var(--fill-color);\n",
              "    }\n",
              "    80% {\n",
              "      border-color: transparent;\n",
              "      border-right-color: var(--fill-color);\n",
              "      border-bottom-color: var(--fill-color);\n",
              "    }\n",
              "    90% {\n",
              "      border-color: transparent;\n",
              "      border-bottom-color: var(--fill-color);\n",
              "    }\n",
              "  }\n",
              "</style>\n",
              "\n",
              "      <script>\n",
              "        async function quickchart(key) {\n",
              "          const quickchartButtonEl =\n",
              "            document.querySelector('#' + key + ' button');\n",
              "          quickchartButtonEl.disabled = true;  // To prevent multiple clicks.\n",
              "          quickchartButtonEl.classList.add('colab-df-spinner');\n",
              "          try {\n",
              "            const charts = await google.colab.kernel.invokeFunction(\n",
              "                'suggestCharts', [key], {});\n",
              "          } catch (error) {\n",
              "            console.error('Error during call to suggestCharts:', error);\n",
              "          }\n",
              "          quickchartButtonEl.classList.remove('colab-df-spinner');\n",
              "          quickchartButtonEl.classList.add('colab-df-quickchart-complete');\n",
              "        }\n",
              "        (() => {\n",
              "          let quickchartButtonEl =\n",
              "            document.querySelector('#df-b6f4ca49-20a6-460e-834d-d38a56b9c61c button');\n",
              "          quickchartButtonEl.style.display =\n",
              "            google.colab.kernel.accessAllowed ? 'block' : 'none';\n",
              "        })();\n",
              "      </script>\n",
              "    </div>\n",
              "    </div>\n",
              "  </div>\n"
            ],
            "application/vnd.google.colaboratory.intrinsic+json": {
              "type": "dataframe",
              "variable_name": "full_data",
              "summary": "{\n  \"name\": \"full_data\",\n  \"rows\": 2500,\n  \"fields\": [\n    {\n      \"column\": \"series\",\n      \"properties\": {\n        \"dtype\": \"number\",\n        \"std\": 0,\n        \"min\": 0,\n        \"max\": 0,\n        \"num_unique_values\": 1,\n        \"samples\": [\n          0\n        ],\n        \"semantic_type\": \"\",\n        \"description\": \"\"\n      }\n    },\n    {\n      \"column\": \"time_idx\",\n      \"properties\": {\n        \"dtype\": \"number\",\n        \"std\": 721,\n        \"min\": 0,\n        \"max\": 2499,\n        \"num_unique_values\": 2500,\n        \"samples\": [\n          1447\n        ],\n        \"semantic_type\": \"\",\n        \"description\": \"\"\n      }\n    },\n    {\n      \"column\": \"value\",\n      \"properties\": {\n        \"dtype\": \"number\",\n        \"std\": 0.5252090564895534,\n        \"min\": -0.9855122782356615,\n        \"max\": 0.9872241713639086,\n        \"num_unique_values\": 2500,\n        \"samples\": [\n          0.6748111482236306\n        ],\n        \"semantic_type\": \"\",\n        \"description\": \"\"\n      }\n    }\n  ]\n}"
            }
          },
          "metadata": {},
          "execution_count": 14
        }
      ]
    },
    {
      "cell_type": "code",
      "execution_count": 15,
      "id": "2f850d6b-b546-433c-a188-d41859981a79",
      "metadata": {
        "colab": {
          "base_uri": "https://localhost:8080/",
          "height": 447
        },
        "id": "2f850d6b-b546-433c-a188-d41859981a79",
        "outputId": "7b50c126-5bf2-41c8-d6d7-d6312a4a4376"
      },
      "outputs": [
        {
          "output_type": "execute_result",
          "data": {
            "text/plain": [
              "<Axes: >"
            ]
          },
          "metadata": {},
          "execution_count": 15
        },
        {
          "output_type": "display_data",
          "data": {
            "text/plain": [
              "<Figure size 640x480 with 1 Axes>"
            ],
            "image/png": "[encoded data removed]"
          },
          "metadata": {}
        }
      ],
      "source": [
        "full_data.value.plot()"
      ]
    },
    {
      "cell_type": "code",
      "execution_count": 16,
      "id": "e45a21ba-795a-4acd-8b94-df3595e4d1b5",
      "metadata": {
        "id": "e45a21ba-795a-4acd-8b94-df3595e4d1b5"
      },
      "outputs": [],
      "source": [
        "training = TimeSeriesDataSet(\n",
        "    full_data[lambda x: x[\"time_idx\"] < 2250],\n",
        "    time_idx=\"time_idx\",\n",
        "    target=\"value\",\n",
        "    group_ids=[\"series\"],\n",
        "    min_encoder_length=1000,\n",
        "    max_encoder_length=2000,\n",
        "    min_prediction_length=250,\n",
        "    max_prediction_length=250,\n",
        "    time_varying_unknown_reals=[\"value\"],\n",
        "    target_normalizer=TorchNormalizer(\n",
        "        method='identity', center=True, transformation=None, method_kwargs={}\n",
        "    ),\n",
        "    add_target_scales=True\n",
        ")"
      ]
    },
    {
      "cell_type": "code",
      "source": [
        "train_dataloader = training.to_dataloader(\n",
        "    train=True, batch_size=256\n",
        ")"
      ],
      "metadata": {
        "id": "lwY15sT67byO"
      },
      "id": "lwY15sT67byO",
      "execution_count": 17,
      "outputs": []
    },
    {
      "cell_type": "code",
      "execution_count": 18,
      "id": "6f7742bc-a1af-42ba-812a-369424aade10",
      "metadata": {
        "id": "6f7742bc-a1af-42ba-812a-369424aade10"
      },
      "outputs": [],
      "source": [
        "validation = TimeSeriesDataSet.from_dataset(\n",
        "    training,\n",
        "    full_data,\n",
        "    min_prediction_idx=2250,\n",
        "    stop_randomization=True\n",
        ")"
      ]
    },
    {
      "cell_type": "code",
      "execution_count": 19,
      "id": "1587f226-4e65-4ac6-ab09-3ce131f23423",
      "metadata": {
        "id": "1587f226-4e65-4ac6-ab09-3ce131f23423"
      },
      "outputs": [],
      "source": [
        "val_dataloader = validation.to_dataloader(\n",
        "    train=False, batch_size=256\n",
        ")"
      ]
    },
    {
      "cell_type": "markdown",
      "source": [
        "### Baseline"
      ],
      "metadata": {
        "id": "ZDNAfs_D95cq"
      },
      "id": "ZDNAfs_D95cq"
    },
    {
      "cell_type": "code",
      "source": [
        "# calculate baseline absolute error\n",
        "baseline_predictions = Baseline().predict(\n",
        "    val_dataloader, trainer_kwargs=dict(accelerator=\"gpu\"), return_y=True\n",
        ")"
      ],
      "metadata": {
        "colab": {
          "base_uri": "https://localhost:8080/",
          "height": 193
        },
        "id": "bJDKsECt945y",
        "outputId": "5810bdc3-dae0-4c04-c7f4-dbf797ca440a"
      },
      "id": "bJDKsECt945y",
      "execution_count": 1,
      "outputs": [
        {
          "output_type": "error",
          "ename": "NameError",
          "evalue": "name 'Baseline' is not defined",
          "traceback": [
            "\u001b[0;31m---------------------------------------------------------------------------\u001b[0m",
            "\u001b[0;31mNameError\u001b[0m                                 Traceback (most recent call last)",
            "\u001b[0;32m/tmp/ipython-input-1-1588978143.py\u001b[0m in \u001b[0;36m<cell line: 0>\u001b[0;34m()\u001b[0m\n\u001b[1;32m      1\u001b[0m \u001b[0;31m# calculate baseline absolute error\u001b[0m\u001b[0;34m\u001b[0m\u001b[0;34m\u001b[0m\u001b[0m\n\u001b[0;32m----> 2\u001b[0;31m baseline_predictions = Baseline().predict(\n\u001b[0m\u001b[1;32m      3\u001b[0m     \u001b[0mval_dataloader\u001b[0m\u001b[0;34m,\u001b[0m \u001b[0mtrainer_kwargs\u001b[0m\u001b[0;34m=\u001b[0m\u001b[0mdict\u001b[0m\u001b[0;34m(\u001b[0m\u001b[0maccelerator\u001b[0m\u001b[0;34m=\u001b[0m\u001b[0;34m\"gpu\"\u001b[0m\u001b[0;34m)\u001b[0m\u001b[0;34m,\u001b[0m \u001b[0mreturn_y\u001b[0m\u001b[0;34m=\u001b[0m\u001b[0;32mTrue\u001b[0m\u001b[0;34m\u001b[0m\u001b[0;34m\u001b[0m\u001b[0m\n\u001b[1;32m      4\u001b[0m )\n",
            "\u001b[0;31mNameError\u001b[0m: name 'Baseline' is not defined"
          ]
        }
      ]
    },
    {
      "cell_type": "code",
      "source": [
        "RMSE()(baseline_predictions.output, baseline_predictions.y)"
      ],
      "metadata": {
        "id": "X3X7QtWS9_kT"
      },
      "id": "X3X7QtWS9_kT",
      "execution_count": null,
      "outputs": []
    },
    {
      "cell_type": "markdown",
      "source": [
        "### Setup"
      ],
      "metadata": {
        "id": "ymuwmidovxvV"
      },
      "id": "ymuwmidovxvV"
    },
    {
      "cell_type": "code",
      "source": [
        "pl.seed_everything(42)"
      ],
      "metadata": {
        "id": "tIuUeZbA-sX6"
      },
      "id": "tIuUeZbA-sX6",
      "execution_count": null,
      "outputs": []
    },
    {
      "cell_type": "code",
      "execution_count": null,
      "id": "40bbfbb5-d5a4-477e-821e-0f939f28c564",
      "metadata": {
        "id": "40bbfbb5-d5a4-477e-821e-0f939f28c564"
      },
      "outputs": [],
      "source": [
        "early_stop_callback = EarlyStopping(\n",
        "    monitor=\"val_loss\",\n",
        "    min_delta=1e-4,\n",
        "    patience=10,\n",
        "    verbose=False,\n",
        "    mode=\"min\"\n",
        ")\n",
        "\n",
        "lr_logger = LearningRateMonitor()\n",
        "\n",
        "checkpoint_callback = ModelCheckpoint(\n",
        "    monitor=\"val_loss\",  # Metric to monitor (same as EarlyStopping)\n",
        "    save_top_k=1,  # Save only the best model\n",
        "    mode=\"min\",  # \"min\" for loss, \"max\" for accuracy\n",
        "    save_last=True, # save the last model\n",
        ")"
      ]
    },
    {
      "cell_type": "code",
      "execution_count": null,
      "id": "457f94cf-a218-46eb-918c-bb1a7f4a00d6",
      "metadata": {
        "id": "457f94cf-a218-46eb-918c-bb1a7f4a00d6"
      },
      "outputs": [],
      "source": [
        "trainer = pl.Trainer(\n",
        "    max_epochs=512,\n",
        "    min_epochs=20,\n",
        "    accelerator=\"gpu\",\n",
        "    enable_model_summary=True,\n",
        "    gradient_clip_val=0.2,\n",
        "    callbacks=[lr_logger, early_stop_callback, checkpoint_callback],\n",
        "    limit_train_batches=256,\n",
        "    enable_checkpointing=True,\n",
        ")"
      ]
    },
    {
      "cell_type": "code",
      "execution_count": null,
      "id": "7a49a129-8ce2-4614-85b8-55a96b8f8215",
      "metadata": {
        "id": "7a49a129-8ce2-4614-85b8-55a96b8f8215"
      },
      "outputs": [],
      "source": [
        "model = TemporalFusionTransformer.from_dataset(\n",
        "    training,\n",
        "    learning_rate=0.03,\n",
        "    log_interval=100,\n",
        "    log_val_interval=10,\n",
        "    hidden_size=16,\n",
        "    lstm_layers=2,\n",
        "    loss=QuantileLoss(quantiles=[0.01, 0.05, 0.1, 0.5, 0.9, 0.95, 0.99]),\n",
        "    optimizer=\"Adam\",\n",
        ")\n",
        "print(f\"Number of parameters in network: {model.size()/1e3:.1f}k\")"
      ]
    },
    {
      "cell_type": "code",
      "source": [
        "# res = Tuner(trainer).lr_find(\n",
        "#     model,\n",
        "#     train_dataloaders=train_dataloader,\n",
        "#     val_dataloaders=val_dataloader,\n",
        "#     min_lr=1e-10,\n",
        "#     max_lr=1e1,\n",
        "#     early_stop_threshold=1000\n",
        "# )\n",
        "# print(f\"suggested learning rate: {res.suggestion()}\")\n",
        "# fig = res.plot(show=True, suggest=True)\n",
        "# fig.show()"
      ],
      "metadata": {
        "id": "Ht_sp1lOQETq",
        "collapsed": true
      },
      "execution_count": null,
      "outputs": [],
      "id": "Ht_sp1lOQETq"
    },
    {
      "cell_type": "code",
      "source": [
        "# print(f\"suggested learning rate: {res.suggestion()}\")"
      ],
      "metadata": {
        "id": "DfzG-xHEKR_T"
      },
      "id": "DfzG-xHEKR_T",
      "execution_count": null,
      "outputs": []
    },
    {
      "cell_type": "code",
      "source": [
        "# trainer = pl.Trainer(\n",
        "#     max_epochs=512,\n",
        "#     accelerator=\"gpu\",\n",
        "#     enable_model_summary=True,\n",
        "#     gradient_clip_val=0.25,\n",
        "#     callbacks=[lr_logger, early_stop_callback, checkpoint_callback],\n",
        "#     # limit_train_batches=256,\n",
        "#     enable_checkpointing=True,\n",
        "# )\n",
        "\n",
        "# model = TemporalFusionTransformer.from_dataset(\n",
        "#     training,\n",
        "#     learning_rate=0.03,\n",
        "#     log_interval=100,\n",
        "#     log_val_interval=10,\n",
        "#     hidden_size=64,\n",
        "#     # rnn_layers=4,\n",
        "#     loss=RMSE(), #NormalDistributionLoss(quantiles=[0.01, 0.05, 0.1, 0.5, 0.9, 0.95, 0.99]),\n",
        "#     optimizer=\"Adam\",\n",
        "# )\n",
        "# print(f\"Number of parameters in network: {model.size()/1e3:.1f}k\")"
      ],
      "metadata": {
        "id": "QYP6UDkfTYEQ"
      },
      "id": "QYP6UDkfTYEQ",
      "execution_count": null,
      "outputs": []
    },
    {
      "cell_type": "code",
      "source": [
        "# del model"
      ],
      "metadata": {
        "id": "29c9QAhEPkvm"
      },
      "id": "29c9QAhEPkvm",
      "execution_count": null,
      "outputs": []
    },
    {
      "cell_type": "code",
      "execution_count": 12,
      "id": "8b20c792-0f56-4017-8030-71c56f02d34a",
      "metadata": {
        "colab": {
          "base_uri": "https://localhost:8080/",
          "height": 211
        },
        "id": "8b20c792-0f56-4017-8030-71c56f02d34a",
        "outputId": "18b4a5aa-abdf-423d-b7df-bf3090d22c59"
      },
      "outputs": [
        {
          "output_type": "error",
          "ename": "NameError",
          "evalue": "name 'trainer' is not defined",
          "traceback": [
            "\u001b[0;31m---------------------------------------------------------------------------\u001b[0m",
            "\u001b[0;31mNameError\u001b[0m                                 Traceback (most recent call last)",
            "\u001b[0;32m/tmp/ipython-input-12-1621377115.py\u001b[0m in \u001b[0;36m<cell line: 0>\u001b[0;34m()\u001b[0m\n\u001b[0;32m----> 1\u001b[0;31m trainer.fit(\n\u001b[0m\u001b[1;32m      2\u001b[0m     \u001b[0mmodel\u001b[0m\u001b[0;34m,\u001b[0m\u001b[0;34m\u001b[0m\u001b[0;34m\u001b[0m\u001b[0m\n\u001b[1;32m      3\u001b[0m     \u001b[0mtrain_dataloaders\u001b[0m\u001b[0;34m=\u001b[0m\u001b[0mtrain_dataloader\u001b[0m\u001b[0;34m,\u001b[0m\u001b[0;34m\u001b[0m\u001b[0;34m\u001b[0m\u001b[0m\n\u001b[1;32m      4\u001b[0m     \u001b[0mval_dataloaders\u001b[0m\u001b[0;34m=\u001b[0m\u001b[0mval_dataloader\u001b[0m\u001b[0;34m,\u001b[0m\u001b[0;34m\u001b[0m\u001b[0;34m\u001b[0m\u001b[0m\n\u001b[1;32m      5\u001b[0m )\n",
            "\u001b[0;31mNameError\u001b[0m: name 'trainer' is not defined"
          ]
        }
      ],
      "source": [
        "trainer.fit(\n",
        "    model,\n",
        "    train_dataloaders=train_dataloader,\n",
        "    val_dataloaders=val_dataloader,\n",
        ")"
      ]
    },
    {
      "cell_type": "code",
      "source": [
        "best_model_path = checkpoint_callback.best_model_path\n",
        "print(best_model_path)\n",
        "best_model = TemporalFusionTransformer.load_from_checkpoint(best_model_path)"
      ],
      "metadata": {
        "id": "Cme60lOH41hu"
      },
      "id": "Cme60lOH41hu",
      "execution_count": null,
      "outputs": []
    },
    {
      "cell_type": "code",
      "source": [
        "import pickle"
      ],
      "metadata": {
        "id": "dhUKx2vGWsJ6"
      },
      "id": "dhUKx2vGWsJ6",
      "execution_count": 20,
      "outputs": []
    },
    {
      "cell_type": "code",
      "source": [
        "with open(\"tft.pkl\",'wb') as file:\n",
        "    pickle.dump(best_model, file)"
      ],
      "metadata": {
        "id": "9gxPaeJqTriK"
      },
      "id": "9gxPaeJqTriK",
      "execution_count": null,
      "outputs": []
    },
    {
      "cell_type": "code",
      "source": [
        "del trainer, model, best_model"
      ],
      "metadata": {
        "id": "LGVrNFR3VxuN"
      },
      "id": "LGVrNFR3VxuN",
      "execution_count": null,
      "outputs": []
    },
    {
      "cell_type": "code",
      "source": [
        "with open(\"tft.pkl\",'rb') as f:\n",
        "    model = pickle.load(f)"
      ],
      "metadata": {
        "id": "wOVkHXBFW4qR"
      },
      "id": "wOVkHXBFW4qR",
      "execution_count": 21,
      "outputs": []
    },
    {
      "cell_type": "code",
      "source": [
        "predictions = model.predict(\n",
        "    val_dataloader,\n",
        "    mode=\"raw\",\n",
        "    # trainer_kwargs=dict(accelerator=\"gpu\"),\n",
        "    return_y=True\n",
        ")"
      ],
      "metadata": {
        "colab": {
          "base_uri": "https://localhost:8080/"
        },
        "id": "aKrNcP8Y1BRZ",
        "outputId": "037beb8f-bb37-48c6-aa53-db9230b2bd03"
      },
      "id": "aKrNcP8Y1BRZ",
      "execution_count": 22,
      "outputs": [
        {
          "output_type": "stream",
          "name": "stderr",
          "text": [
            "INFO: 💡 Tip: For seamless cloud uploads and versioning, try installing [litmodels](https://pypi.org/project/litmodels/) to enable LitModelCheckpoint, which syncs automatically with the Lightning model registry.\n",
            "INFO:lightning.pytorch.utilities.rank_zero:💡 Tip: For seamless cloud uploads and versioning, try installing [litmodels](https://pypi.org/project/litmodels/) to enable LitModelCheckpoint, which syncs automatically with the Lightning model registry.\n",
            "INFO: GPU available: True (cuda), used: True\n",
            "INFO:lightning.pytorch.utilities.rank_zero:GPU available: True (cuda), used: True\n",
            "INFO: TPU available: False, using: 0 TPU cores\n",
            "INFO:lightning.pytorch.utilities.rank_zero:TPU available: False, using: 0 TPU cores\n",
            "INFO: HPU available: False, using: 0 HPUs\n",
            "INFO:lightning.pytorch.utilities.rank_zero:HPU available: False, using: 0 HPUs\n",
            "INFO: LOCAL_RANK: 0 - CUDA_VISIBLE_DEVICES: [0]\n",
            "INFO:lightning.pytorch.accelerators.cuda:LOCAL_RANK: 0 - CUDA_VISIBLE_DEVICES: [0]\n",
            "/usr/local/lib/python3.11/dist-packages/pytorch_forecasting/models/base/_base_model.py:122: UserWarning: Not all dimensions are equal for tensors shapes. Example tensor torch.Size([256, 250, 4, 2000]). Returning list instead of torch.Tensor.\n",
            "  warnings.warn(\n"
          ]
        }
      ]
    },
    {
      "cell_type": "code",
      "source": [
        "true_vals = predictions.y[0][0,:].cpu()"
      ],
      "metadata": {
        "id": "4wM5koiQX0iC"
      },
      "id": "4wM5koiQX0iC",
      "execution_count": 45,
      "outputs": []
    },
    {
      "cell_type": "code",
      "source": [
        "quantiles = predictions.output.prediction.mean(axis=0).cpu()"
      ],
      "metadata": {
        "id": "xEt_IFwSdnzz"
      },
      "id": "xEt_IFwSdnzz",
      "execution_count": 40,
      "outputs": []
    },
    {
      "cell_type": "code",
      "source": [
        "del predictions"
      ],
      "metadata": {
        "id": "0gNDy26Rc7w1"
      },
      "id": "0gNDy26Rc7w1",
      "execution_count": 18,
      "outputs": []
    },
    {
      "cell_type": "code",
      "source": [
        "quantiles.shape"
      ],
      "metadata": {
        "colab": {
          "base_uri": "https://localhost:8080/"
        },
        "id": "Oc7C6rjZbW40",
        "outputId": "2d8074b0-ae1e-4f91-ff66-ae5ce27924a4"
      },
      "id": "Oc7C6rjZbW40",
      "execution_count": 48,
      "outputs": [
        {
          "output_type": "execute_result",
          "data": {
            "text/plain": [
              "torch.Size([250, 7])"
            ]
          },
          "metadata": {},
          "execution_count": 48
        }
      ]
    },
    {
      "cell_type": "code",
      "source": [
        "for i, name in enumerate([0.01, 0.05, 0.1, 0.5, 0.9, 0.95, 0.99]):\n",
        "  plt.plot(quantiles[:, i], label=f\"{name*100:.0f}%\", alpha=0.5)\n",
        "\n",
        "plt.plot(true_vals, label=\"real\")\n",
        "plt.legend(bbox_to_anchor=(1, 1))\n",
        "plt.title(\"Quantiles vs Real values\")\n",
        "plt.show()"
      ],
      "metadata": {
        "colab": {
          "base_uri": "https://localhost:8080/",
          "height": 452
        },
        "id": "j5PYYblLeWdw",
        "outputId": "a5a5cfa6-3544-43f5-d9ee-8823b1b1747c"
      },
      "id": "j5PYYblLeWdw",
      "execution_count": 55,
      "outputs": [
        {
          "output_type": "display_data",
          "data": {
            "text/plain": [
              "<Figure size 640x480 with 1 Axes>"
            ],
            "image/png": "[encoded data removed]"
          },
          "metadata": {}
        }
      ]
    },
    {
      "cell_type": "code",
      "source": [],
      "metadata": {
        "id": "WcTjaeFDPuEn"
      },
      "id": "WcTjaeFDPuEn",
      "execution_count": null,
      "outputs": []
    }
  ],
  "metadata": {
    "kernelspec": {
      "display_name": "Python 3",
      "name": "python3"
    },
    "language_info": {
      "codemirror_mode": {
        "name": "ipython",
        "version": 3
      },
      "file_extension": ".py",
      "mimetype": "text/x-python",
      "name": "python",
      "nbconvert_exporter": "python",
      "pygments_lexer": "ipython3",
      "version": "3.12.4"
    },
    "colab": {
      "provenance": [],
      "gpuType": "T4"
    },
    "accelerator": "GPU"
  },
  "nbformat": 4,
  "nbformat_minor": 5
}